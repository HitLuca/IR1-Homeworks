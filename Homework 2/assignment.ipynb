{
 "cells": [
  {
   "cell_type": "markdown",
   "metadata": {},
   "source": [
    "# Information Retrieval I #\n",
    "## Assignment 2: retrieval models [100 points + 10 bonus points] ##\n",
    "**TA**: Christophe Van Gysel (cvangysel@uva.nl; C3.258B, Science Park 904)\n",
    "\n",
    "**Secondary TAs**: Harrie Oosterhuis, Nikos Voskarides"
   ]
  },
  {
   "cell_type": "markdown",
   "metadata": {},
   "source": [
    "In this assignment you will get familiar with basic information retrieval concepts. You will implement and evaluate different information retrieval ranking models and evaluate their performance.\n",
    "\n",
    "We provide you with a VirtualBox image that comes pre-loaded with an index and a Python installation. To query the index, you'll use a Python package ([pyndri](https://github.com/cvangysel/pyndri)) that allows easy access to the underlying document statistics.\n",
    "\n",
    "For evaluation you'll use the [TREC Eval](https://github.com/usnistgov/trec_eval) utility, provided by the National Institute of Standards and Technology of the United States. TREC Eval is the de facto standard way to compute Information Retrieval measures and is frequently referenced in scientific papers.\n",
    "\n",
    "This is a **groups-of-two assignment**, the deadline is **23:59 - 25 January, 2017**. Code quality, informative comments and convincing analysis of the results will be considered when grading. Submission should be done through blackboard, questions can be asked on the course [Piazza](https://piazza.com/class/ixoz63p156g1ts)."
   ]
  },
  {
   "cell_type": "markdown",
   "metadata": {},
   "source": [
    "## IMPORTANT\n",
    "We implemented loading and saving of all the dictionaries and all models, in order to be able to quickly run the notebook when re opening. After each dictionary creation there is a cell with the loading and saving of it, in order to easily comment out the dictionary creation function at will.\n",
    "\n",
    "Check notes before the methods in case some clarifications are needed.\n",
    "\n",
    "At least 8GB or RAM is needed to properly run all the code (not verified, but surely more than 6.5GB)\n",
    "\n",
    "When first running the notebook, the project structure has to look like this\n",
    "* Project_folder/\n",
    " * ap_88_89/\n",
    " * dictionaries/\n",
    " * index/\n",
    " * models/\n",
    " * npy/\n",
    " * runs/\n",
    " * iPython_notebook.ipynb"
   ]
  },
  {
   "cell_type": "markdown",
   "metadata": {},
   "source": [
    "### Task 1: Implement and compare lexical IR methods [45 points] ### \n",
    "\n",
    "In this task you will implement a number of lexical methods for IR using the **Pyndri** framework. Then you will evaluate these methods on the dataset we have provided using **TREC Eval**.\n",
    "\n",
    "Use the **Pyndri** framework to get statistics of the documents (term frequency, document frequency, collection frequency; **you are not allowed to use the query functionality of Pyndri**) and implement the following scoring methods in **Python**:\n",
    "\n",
    "- [TF-IDF](http://nlp.stanford.edu/IR-book/html/htmledition/tf-idf-weighting-1.html). **[5 points]**\n",
    "- [BM25](http://nlp.stanford.edu/IR-book/html/htmledition/okapi-bm25-a-non-binary-model-1.html) with k1=1.2 and b=0.75. **[5 points]**\n",
    "- Language models ([survey](https://drive.google.com/file/d/0B-zklbckv9CHc0c3b245UW90NE0/view))\n",
    "    - Jelinek-Mercer (explore different values of 𝛌 in the range [0.1, 0.2, ..., 0.9]). **[5 points]**\n",
    "    - Dirichlet Prior (explore different values of 𝛍 [500, 1000, ..., 2000]). **[5 points]**\n",
    "    - Absolute discounting (explore different values of 𝛅 in the range [0.1, 0.2, ..., 0.9]). **[5 points]**\n",
    "    - [Positional Language Models](http://sifaka.cs.uiuc.edu/~ylv2/pub/sigir09-plm.pdf) define a language model for each position of a document, and score a document based on the scores of its PLMs. The PLM is estimated based on propagated counts of words within a document through a proximity-based density function, which both captures proximity heuristics and achieves an effect of “soft” passage retrieval. Implement the PLM, all five kernels, but only the Best position strategy to score documents. Use 𝛔 equal to 50, and Dirichlet smoothing with 𝛍 optimized on the validation set (decide how to optimize this value yourself and motivate your decision in the report). **[10 points]**\n",
    "    \n",
    "Implement the above methods and report evaluation measures (on the test set) using the hyper parameter values you optimized on the validation set (also report the values of the hyper parameters). Use TREC Eval to obtain the results and report on `NDCG@10`, Mean Average Precision (`MAP@1000`), `Precision@5` and `Recall@1000`.\n",
    "\n",
    "For the language models, create plots showing `NDCG@10` with varying values of the parameters. You can do this by chaining small scripts using shell scripting (preferred) or execute trec_eval using Python's `subprocess`.\n",
    "\n",
    "Compute significance of the results using a [two-tailed paired Student t-test](https://docs.scipy.org/doc/scipy/reference/generated/scipy.stats.ttest_rel.html) **[10 points]**. Be wary of false rejection of the null hypothesis caused by the [multiple comparisons problem](https://en.wikipedia.org/wiki/Multiple_comparisons_problem). There are multiple ways to mitigate this problem and it is up to you to choose one.\n",
    "\n",
    "Analyse the results by identifying specific queries where different methods succeed or fail and discuss possible reasons that cause these differences.\n",
    "\n",
    "**NOTE**: Don’t forget to use log computations in your calculations to avoid underflows. "
   ]
  },
  {
   "cell_type": "code",
   "execution_count": 23,
   "metadata": {
    "collapsed": false
   },
   "outputs": [],
   "source": [
    "import numpy as np\n",
    "import pickle\n",
    "import pyndri\n",
    "from enum import Enum\n",
    "import math\n",
    "import time\n",
    "import subprocess\n",
    "import copy\n",
    "import gensim\n",
    "import logging\n",
    "import pyndri.compat\n",
    "import sys\n",
    "from gensim import utils\n",
    "from gensim.models.doc2vec import LabeledSentence\n",
    "import scipy.spatial.distance\n",
    "import pickle\n",
    "from sklearn.linear_model import LogisticRegression\n",
    "from sklearn.model_selection import KFold\n",
    "import scipy.stats\n",
    "import matplotlib.pyplot as plt"
   ]
  },
  {
   "cell_type": "markdown",
   "metadata": {},
   "source": [
    "## Dictionaries creation and initial preprocessing"
   ]
  },
  {
   "cell_type": "code",
   "execution_count": 24,
   "metadata": {
    "collapsed": false
   },
   "outputs": [],
   "source": [
    "index = pyndri.Index('index/')\n",
    "token2id, id2token, _ = index.get_dictionary()\n",
    "dictionary = pyndri.extract_dictionary(index)\n",
    "\n",
    "min_index = index.document_base()\n",
    "max_index = index.maximum_document()\n",
    "documents_number = max_index - min_index"
   ]
  },
  {
   "cell_type": "code",
   "execution_count": 25,
   "metadata": {
    "collapsed": true
   },
   "outputs": [],
   "source": [
    "def save_dictionary(filename, dictionary):\n",
    "    with open('dictionaries/' + filename + '.pk1', 'wb') as f:\n",
    "        pickle.dump(dictionary, f, pickle.HIGHEST_PROTOCOL)\n",
    "        \n",
    "def load_dictionary(filename):\n",
    "    with open('dictionaries/' + filename + '.pk1', 'rb') as f:\n",
    "        return pickle.load(f)\n",
    "    \n",
    "def create_dictionaries():\n",
    "    tf_dictionary = {}\n",
    "    df_dictionary = {}\n",
    "    p_dictionary = {}\n",
    "    lengths = {}\n",
    "    unique_tokens_dictionary = {}\n",
    "\n",
    "    for d in range(min_index, max_index):\n",
    "        tf_dictionary[d] = {}\n",
    "        doc = index.document(d)\n",
    "        tokens = set(doc[1])\n",
    "        lengths[d] = len(doc[1])\n",
    "        unique_tokens_dictionary[d] = len(tokens)\n",
    "        for token in tokens:\n",
    "            if token in df_dictionary:\n",
    "                df_dictionary[token] += 1\n",
    "            else:\n",
    "                df_dictionary[token] = 1\n",
    "\n",
    "        for token in doc[1]:\n",
    "            if token in p_dictionary:\n",
    "                p_dictionary[token] += 1\n",
    "            else:\n",
    "                p_dictionary[token] = 1\n",
    "\n",
    "            if token in tf_dictionary[d]:\n",
    "                tf_dictionary[d][token] += 1\n",
    "            else:\n",
    "                tf_dictionary[d][token] = 1\n",
    "\n",
    "    C = 0\n",
    "    for d in lengths:\n",
    "        C += lengths[d]\n",
    "\n",
    "    for key in p_dictionary:\n",
    "        p_dictionary[key] /= C\n",
    "    return tf_dictionary, df_dictionary, p_dictionary, lengths, unique_tokens_dictionary"
   ]
  },
  {
   "cell_type": "code",
   "execution_count": 26,
   "metadata": {
    "collapsed": false
   },
   "outputs": [],
   "source": [
    "tf_dictionary, df_dictionary, p_dictionary, lengths, unique_tokens_dictionary = create_dictionaries()\n",
    "save_dictionary('tf_dictionary', tf_dictionary)\n",
    "save_dictionary('df_dictionary', df_dictionary)\n",
    "save_dictionary('p_dictionary', p_dictionary)\n",
    "save_dictionary('lengths', lengths)\n",
    "save_dictionary('unique_tokens_dictionary', unique_tokens_dictionary)"
   ]
  },
  {
   "cell_type": "code",
   "execution_count": 28,
   "metadata": {
    "collapsed": true
   },
   "outputs": [],
   "source": [
    "tf_dictionary = load_dictionary('tf_dictionary')\n",
    "df_dictionary = load_dictionary('df_dictionary')\n",
    "p_dictionary = load_dictionary('p_dictionary')\n",
    "lengths = load_dictionary('lengths')\n",
    "unique_tokens_dictionary = load_dictionary('unique_tokens_dictionary')"
   ]
  },
  {
   "cell_type": "markdown",
   "metadata": {},
   "source": [
    "### Queries-related dictionaries"
   ]
  },
  {
   "cell_type": "code",
   "execution_count": 29,
   "metadata": {
    "collapsed": false
   },
   "outputs": [],
   "source": [
    "def create_queries_dictionaries():\n",
    "    queries_dictionary = {}\n",
    "    with open('ap_88_89/topics_title', 'r') as f:\n",
    "        for line in f.readlines():\n",
    "            line = line.replace('\\n', '').split(';')\n",
    "            queries_dictionary[line[0]] = line[1]\n",
    "\n",
    "    queries = set()\n",
    "    validation_queries = {}\n",
    "    with open('ap_88_89/qrel_validation', 'r') as f:\n",
    "        for line in f.readlines():\n",
    "            line = line.replace('\\n', '').split(' ')\n",
    "            queries.add(line[0])\n",
    "\n",
    "    for query in queries:\n",
    "        validation_queries[query] = queries_dictionary[query]\n",
    "\n",
    "    queries = set()\n",
    "    test_queries = {}\n",
    "    with open('ap_88_89/qrel_test', 'r') as f:\n",
    "        for line in f.readlines():\n",
    "            line = line.replace('\\n', '').split(' ')\n",
    "            queries.add(line[0])\n",
    "\n",
    "    for query in queries:\n",
    "        test_queries[query] = queries_dictionary[query]\n",
    "    return queries_dictionary, validation_queries, test_queries"
   ]
  },
  {
   "cell_type": "code",
   "execution_count": 30,
   "metadata": {
    "collapsed": false
   },
   "outputs": [],
   "source": [
    "queries_dictionary, validation_queries, test_queries = create_queries_dictionaries()\n",
    "save_dictionary('queries_dictionary', queries_dictionary)\n",
    "save_dictionary('validation_queries', validation_queries)\n",
    "save_dictionary('test_queries', test_queries)"
   ]
  },
  {
   "cell_type": "code",
   "execution_count": 31,
   "metadata": {
    "collapsed": true
   },
   "outputs": [],
   "source": [
    "queries_dictionary = load_dictionary('queries_dictionary')\n",
    "validation_queries = load_dictionary('validation_queries')\n",
    "test_queries = load_dictionary('test_queries')"
   ]
  },
  {
   "cell_type": "markdown",
   "metadata": {},
   "source": [
    "## TF-IDF"
   ]
  },
  {
   "cell_type": "code",
   "execution_count": 32,
   "metadata": {
    "collapsed": false
   },
   "outputs": [],
   "source": [
    "def tf(term, doc):\n",
    "    token_id = token2id.get(term, 0)\n",
    "    if(token_id not in tf_dictionary[doc]):\n",
    "        return 0\n",
    "    return tf_dictionary[doc][token_id]\n",
    "    \n",
    "def df(term):\n",
    "    return df_dictionary[token2id.get(term, 0)]\n",
    "    \n",
    "def idf(term):\n",
    "    return math.log(documents_number/df(term))\n",
    "\n",
    "def tf_idf_term(term, doc):\n",
    "    return math.log(1 + tf(term, doc)) * idf(term)\n",
    "\n",
    "def tf_idf(query, doc, parameters):\n",
    "    total = 0\n",
    "    for token in query:\n",
    "        total += tf_idf_term(token, doc)\n",
    "    return total"
   ]
  },
  {
   "cell_type": "markdown",
   "metadata": {},
   "source": [
    "## BM25"
   ]
  },
  {
   "cell_type": "code",
   "execution_count": 33,
   "metadata": {
    "collapsed": true
   },
   "outputs": [],
   "source": [
    "len_avg = sum(len(index.document(doc)[1]) for doc in range(min_index, max_index)) / documents_number"
   ]
  },
  {
   "cell_type": "code",
   "execution_count": 34,
   "metadata": {
    "collapsed": false
   },
   "outputs": [],
   "source": [
    "def length(doc):\n",
    "    length = lengths[doc]\n",
    "    return length if length > 0 else 1\n",
    "\n",
    "\n",
    "def bm25(query, doc, parameters):\n",
    "    b = parameters[0] # 0.75\n",
    "    k1 = parameters[1] # 1.2\n",
    "    k3 = parameters[2] # 1\n",
    "    \n",
    "    total = 0\n",
    "    \n",
    "    for token in query:\n",
    "        tf_t = tf(token, doc)\n",
    "        total += (k1 + 1) * tf_t * idf(token) / (k1 * ((1 - b) + b * (length(doc) / len_avg) + tf_t))\n",
    "    return total"
   ]
  },
  {
   "cell_type": "markdown",
   "metadata": {},
   "source": [
    "## Jelinek-Mercer"
   ]
  },
  {
   "cell_type": "code",
   "execution_count": 35,
   "metadata": {
    "collapsed": false
   },
   "outputs": [],
   "source": [
    "def jm(term, doc, lamb):\n",
    "    p = p_dictionary[token2id.get(term, 0)]\n",
    "    return (lamb * tf(term, doc)) / length(doc) + (1 - lamb) * p\n",
    "\n",
    "def jelinek_mercer(query, doc, parameters):\n",
    "    lamb = parameters[0]\n",
    "    total = 1\n",
    "    \n",
    "    for word in query:\n",
    "        total *= jm(word, doc, lamb)\n",
    "    \n",
    "    return total"
   ]
  },
  {
   "cell_type": "markdown",
   "metadata": {},
   "source": [
    "## Dirichlet Prior"
   ]
  },
  {
   "cell_type": "code",
   "execution_count": 36,
   "metadata": {
    "collapsed": false
   },
   "outputs": [],
   "source": [
    "def dp(term, doc, mu):\n",
    "    p = p_dictionary[token2id.get(term, 0)]\n",
    "    \n",
    "    return (tf(term, doc) + mu*p)/(length(doc) + mu)\n",
    "\n",
    "def dirichlet_prior(query, doc, parameters):\n",
    "    mu = parameters[0]\n",
    "    \n",
    "    total = 1\n",
    "    \n",
    "    for word in query:\n",
    "        total *= dp(word, doc, mu)\n",
    "    \n",
    "    return total"
   ]
  },
  {
   "cell_type": "markdown",
   "metadata": {},
   "source": [
    "## Absolute Discounting"
   ]
  },
  {
   "cell_type": "code",
   "execution_count": 37,
   "metadata": {
    "collapsed": false
   },
   "outputs": [],
   "source": [
    "def unique_tokens(d):\n",
    "    return unique_tokens_dictionary[d]\n",
    "\n",
    "\n",
    "def ad(term, doc, delta):\n",
    "    p = p_dictionary[token2id.get(term, 0)]\n",
    "    \n",
    "    return (max(tf(term, doc) - delta, 0) + delta * unique_tokens(doc) * p) / length(doc)\n",
    "\n",
    "def absolute_discounting(query, doc, parameters):\n",
    "    delta = parameters[0]\n",
    "    total = 1\n",
    "    \n",
    "    for word in query:\n",
    "        total *= ad(word, doc, delta)\n",
    "    \n",
    "    return total"
   ]
  },
  {
   "cell_type": "markdown",
   "metadata": {},
   "source": [
    "## Positional Language Models"
   ]
  },
  {
   "cell_type": "code",
   "execution_count": 38,
   "metadata": {
    "collapsed": false
   },
   "outputs": [],
   "source": [
    "class Kernel(Enum):\n",
    "    GAUSSIAN = 1\n",
    "    TRIANGLE = 2\n",
    "    COSINE = 3\n",
    "    CIRCLE = 4\n",
    "    PASSAGE = 5\n",
    "    \n",
    "\n",
    "def kernel(i, j, kernel_type, parameters):\n",
    "    sigma = parameters[1]\n",
    "    \n",
    "    difference = abs(j-i)\n",
    "    \n",
    "    if(kernel_type == Kernel.GAUSSIAN):\n",
    "        return math.exp(-pow(i-j, 2)/(2*pow(sigma, 2)))\n",
    "    else:\n",
    "        if(difference > sigma):\n",
    "            return 0;\n",
    "        else:\n",
    "            if(kernel_type == Kernel.TRIANGLE):\n",
    "                return 1 - difference/sigma\n",
    "            elif(kernel_type == Kernel.COSINE):\n",
    "                return 0.5*(1 + np.cos(difference*math.pi/sigma))\n",
    "            elif(kernel_type == Kernel.CIRCLE):\n",
    "                return np.sqrt(1-pow(difference/sigma, 2))\n",
    "            elif(kernel_type == Kernel.PASSAGE):\n",
    "                return 1\n",
    "\n",
    "def plm(query, doc, parameters):\n",
    "    document = index.document(doc)[1]\n",
    "    length_d = len(document)\n",
    "    \n",
    "    length_q = len(query)\n",
    "    \n",
    "    total = np.zeros(length_d)\n",
    "    mu = parameters[0]\n",
    "    sigma = parameters[1]\n",
    "    kernel_type = Kernel[parameters[2]]\n",
    "    \n",
    "    query_LM = {}\n",
    "    w_PLM = {}\n",
    "    p_PLM = {}\n",
    "    for term in query:\n",
    "        if term in query_LM:\n",
    "            query_LM[term] += 1.0\n",
    "        else:\n",
    "            query_LM[term] = 1.0\n",
    "            w_PLM[term] = np.zeros(length_d)\n",
    "            p_PLM[term] = np.zeros(length_d)\n",
    "            \n",
    "    for term in query_LM:\n",
    "        query_LM[term] /= length_q\n",
    "    \n",
    "    for term in set(query):\n",
    "        term_id = token2id.get(term,0)\n",
    "        indices = [i for i, x in enumerate(document) if x == term_id]\n",
    "        for ind in indices:\n",
    "            if kernel_type == Kernel.GAUSSIAN:\n",
    "                for i in range(max(0, ind-sigma*2), min(ind+sigma*2, length_d)):\n",
    "                    w_PLM[term][i] += kernel(i, ind, kernel_type, parameters)\n",
    "            else:\n",
    "                for i in range(max(0, ind-sigma), min(ind+sigma, length_d)):\n",
    "                    w_PLM[term][i] += kernel(i, ind, kernel_type, parameters)\n",
    "    \n",
    "    \n",
    "    z_i = np.zeros(length_d)\n",
    "    for i in range(length_d):\n",
    "        for term in w_PLM:\n",
    "            z_i[i] += w_PLM[term][i]\n",
    "    \n",
    "    \n",
    "    \n",
    "    for term in p_PLM:\n",
    "        term_id = token2id.get(term,0)\n",
    "        for i in range(length_d):\n",
    "            p_PLM[term][i] = (w_PLM[term][i] + mu*p_dictionary[term_id])/(z_i[i] + mu)\n",
    "            \n",
    "            \n",
    "    for i in range(length_d):\n",
    "        temp = 0\n",
    "        for term in set(query):\n",
    "            temp += -query_LM[term]*math.log(query_LM[term]/p_PLM[term][i])\n",
    "        \n",
    "        total[i] = temp\n",
    "        \n",
    "    return max(total)"
   ]
  },
  {
   "cell_type": "markdown",
   "metadata": {},
   "source": [
    "## Parameters estimation"
   ]
  },
  {
   "cell_type": "code",
   "execution_count": 39,
   "metadata": {
    "collapsed": false
   },
   "outputs": [],
   "source": [
    "class Scorings(Enum):\n",
    "    TF_IDF = 1\n",
    "    BM25 = 2\n",
    "    JELINEK_MERCER = 3\n",
    "    DIRICHLET_PRIOR = 4\n",
    "    ABSOLUTE_DISCOUNTING = 5\n",
    "    POSITION_LANGUAGE_MODEL = 6\n",
    "    \n",
    "class ScoringMethod():\n",
    "    def __init__(self, scoring_type):\n",
    "        if scoring_type == Scorings.TF_IDF:\n",
    "            self.score = tf_idf\n",
    "        elif scoring_type == Scorings.BM25:\n",
    "            self.score = bm25\n",
    "        elif scoring_type == Scorings.JELINEK_MERCER:\n",
    "            self.score = jelinek_mercer\n",
    "        elif scoring_type == Scorings.DIRICHLET_PRIOR:\n",
    "            self.score = dirichlet_prior\n",
    "        elif scoring_type == Scorings.ABSOLUTE_DISCOUNTING:\n",
    "            self.score = absolute_discounting\n",
    "        elif scoring_type == Scorings.POSITION_LANGUAGE_MODEL:\n",
    "            self.score = plm\n",
    "            \n",
    "def get_scores(method, parameters, test):\n",
    "    scores = {}\n",
    "    \n",
    "    if test:\n",
    "        used_queries = test_queries\n",
    "    else:\n",
    "        used_queries = validation_queries\n",
    "        \n",
    "    for query in used_queries:\n",
    "        scores[query] = []\n",
    "\n",
    "        tokens = set(index.tokenize(used_queries[query]))\n",
    "        if('' in tokens):\n",
    "            tokens.remove('')\n",
    "            \n",
    "        ids = []\n",
    "        for term in tokens:\n",
    "            ids.append(token2id.get(term,0))\n",
    "        \n",
    "        for d in range(min_index, max_index): \n",
    "            doc = index.document(d)[1]\n",
    "            if(len(doc) > 0 and any(x in ids for x in doc)):\n",
    "                scores[query].append((d, method.score(tokens, d, parameters)))\n",
    "\n",
    "        scores[query].sort(key=lambda x: x[1], reverse=True)\n",
    "    return scores\n",
    "\n",
    "def write_run(run_name, name, scores):\n",
    "    with open('runs/' + run_name + '.run', 'w') as f:\n",
    "        for query in scores:\n",
    "            score_list = scores[query]\n",
    "            for i in range(min(1000, len(score_list))):\n",
    "                print(query,'Q0', index.document(score_list[i][0])[0], i+1, score_list[i][1], name, file=f)\n",
    "                \n",
    "def evaluate_run(run_name, test):\n",
    "    command = 'trec_eval -m all_trec -q ap_88_89/'\n",
    "    if test:\n",
    "        command += 'qrel_test'\n",
    "    else:\n",
    "        command += 'qrel_validation'\n",
    "    command += ' runs/' + run_name + '.run | grep \"\\sall\\s\"'\n",
    "    output = str(subprocess.check_output(command, shell=True))\n",
    "    return output\n",
    "\n",
    "def evaluate_run_test(run_name, test):\n",
    "    command = 'trec_eval -m all_trec -q ap_88_89/'\n",
    "    if test:\n",
    "        command += 'qrel_test'\n",
    "    else:\n",
    "        command += 'qrel_validation'\n",
    "    command += ' runs/'  + run_name + '.run | grep -E  \"(^ndcg_cut_10\\s)|(^P_5\\s)|(^recall_1000\\s)|(^map_cut_1000\\s)\"'\n",
    "    output = str(subprocess.check_output(command, shell=True))\n",
    "    return output\n",
    "\n",
    "def process_output(output): \n",
    "    output = output.replace(\"b'\", '').replace('\\\\t', ' ').replace('\\t', ' ').split('\\\\n')\n",
    "    \n",
    "    ndcg_10 = 0\n",
    "    map_1000 = 0\n",
    "    precision_5 = 0\n",
    "    recall_1000 = 0\n",
    "    for score in output:\n",
    "        score = score.split()\n",
    "        if score[0] == 'ndcg_cut_10':\n",
    "            ndcg_10 = score[2]\n",
    "        elif score[0] == 'map_cut_1000':\n",
    "            map_1000 = score[2]\n",
    "        elif score[0] == 'P_5':\n",
    "            precision_5 = score[2]\n",
    "        elif score[0] == 'recall_1000':\n",
    "            recall_1000 = score[2]\n",
    "    return ndcg_10, map_1000, precision_5, recall_1000\n",
    "\n",
    "def process_output_t_test(output): \n",
    "    output = output.replace(\"b'\", '').replace('\\\\t', ' ').replace('\\t', ' ').split('\\\\n')\n",
    "    \n",
    "    ndcg_10 = 0\n",
    "    map_1000 = 0\n",
    "    precision_5 = 0\n",
    "    recall_1000 = 0\n",
    "    query_ndcg = []\n",
    "    query_map = []\n",
    "    query_prec = []\n",
    "    query_recl = []\n",
    "    for score in output:\n",
    "        score = score.split()\n",
    "        if score[0] == 'ndcg_cut_10':\n",
    "            query_ndcg.append([score[1], score[2]])\n",
    "        elif score[0] == 'map_cut_1000':\n",
    "            query_map.append([score[1], score[2]])\n",
    "        elif score[0] == 'P_5':\n",
    "            query_prec.append([score[1], score[2]])\n",
    "        elif score[0] == 'recall_1000':\n",
    "            query_recl.append([score[1], score[2]])\n",
    "    return query_ndcg, query_map, query_prec, query_recl"
   ]
  },
  {
   "cell_type": "code",
   "execution_count": 40,
   "metadata": {
    "collapsed": false
   },
   "outputs": [],
   "source": [
    "lambdas =  np.arange(0.1,1,0.1)\n",
    "mus =  np.arange(500,2500,500)\n",
    "deltas =  np.arange(0.1,1,0.1)\n",
    "run_prefixes = ['JELINEK_MERCER', 'DIRICHLET_PRIOR', 'ABSOLUTE_DISCOUNTING']\n",
    "run_parameters = [lambdas, mus, deltas]\n",
    "kernels = ['GAUSSIAN', 'TRIANGLE', 'COSINE', 'CIRCLE', 'PASSAGE']\n",
    "method = ScoringMethod(Scorings.POSITION_LANGUAGE_MODEL)\n",
    "plm_prefix = 'POSITIONAL_LANGUAGE_MODEL'\n",
    "sigma = 50"
   ]
  },
  {
   "cell_type": "code",
   "execution_count": null,
   "metadata": {
    "collapsed": false,
    "scrolled": false
   },
   "outputs": [],
   "source": [
    "def produce_rankings():\n",
    "    for i in range(len(run_prefixes)):\n",
    "        method = ScoringMethod(Scorings(i+3))\n",
    "        prefix = run_prefixes[i]\n",
    "        for j in range(len(run_parameters[i])):\n",
    "            parameter = run_parameters[i][j]\n",
    "            run_name = prefix + '_' + str(parameter)\n",
    "            print(run_name)\n",
    "            scores = get_scores(method, [parameter, sigma, kernel_type], False)\n",
    "            write_run(run_name, prefix, scores)\n",
    "    method = ScoringMethod(Scorings.POSITION_LANGUAGE_MODEL)\n",
    "    for k in range(len(kernels)):\n",
    "        for mu in mus:\n",
    "            run_name = plm_prefix + '_' + str(mu) + '_' + kernels[k] \n",
    "            print(run_name)\n",
    "            scores = get_scores(method, [parameter, sigma, kernel_type], False)\n",
    "            write_run(run_name, plm_prefix, scores)\n",
    "produce_rankings()"
   ]
  },
  {
   "cell_type": "code",
   "execution_count": 41,
   "metadata": {
    "collapsed": false,
    "scrolled": false
   },
   "outputs": [
    {
     "name": "stdout",
     "output_type": "stream",
     "text": [
      "parameter (ndcg_10, map_1000, precision_5, recall_1000)\n",
      "\n",
      "JELINEK_MERCER\n",
      "0.1 ('0.3868', '0.2166', '0.3933', '0.6240')\n",
      "0.2 ('0.3823', '0.2200', '0.3867', '0.6340')\n",
      "0.3 ('0.3788', '0.2199', '0.3733', '0.6337')\n",
      "0.4 ('0.3715', '0.2194', '0.3867', '0.6353')\n",
      "0.5 ('0.3698', '0.2191', '0.3800', '0.6372')\n",
      "0.6 ('0.3759', '0.2192', '0.3933', '0.6298')\n",
      "0.7 ('0.3683', '0.2181', '0.3733', '0.6257')\n",
      "0.8 ('0.3736', '0.2169', '0.3733', '0.6137')\n",
      "0.9 ('0.3658', '0.2145', '0.3600', '0.6091')\n",
      "\n",
      "DIRICHLET_PRIOR\n",
      "500 ('0.3936', '0.2314', '0.4067', '0.6203')\n",
      "1000 ('0.4040', '0.2395', '0.4000', '0.6305')\n",
      "1500 ('0.4024', '0.2402', '0.4000', '0.6360')\n",
      "2000 ('0.3998', '0.2403', '0.3933', '0.6302')\n",
      "\n",
      "ABSOLUTE_DISCOUNTING\n",
      "0.1 ('0.3744', '0.2226', '0.3600', '0.6054')\n",
      "0.2 ('0.3783', '0.2254', '0.3600', '0.6083')\n",
      "0.3 ('0.3869', '0.2274', '0.3800', '0.6093')\n",
      "0.4 ('0.3858', '0.2289', '0.3800', '0.6116')\n",
      "0.5 ('0.3792', '0.2296', '0.3800', '0.6171')\n",
      "0.6 ('0.3785', '0.2322', '0.3800', '0.6294')\n",
      "0.7 ('0.3885', '0.2326', '0.3800', '0.6486')\n",
      "0.8 ('0.3946', '0.2344', '0.3667', '0.6589')\n",
      "0.9 ('0.3899', '0.2317', '0.3933', '0.6623')\n",
      "\n",
      "POSITIONAL_LANGUAGE_MODEL_GAUSSIAN\n",
      "500 ('0.3774', '0.2271', '0.4133', '0.6170')\n",
      "1000 ('0.3777', '0.2287', '0.4067', '0.6145')\n",
      "1500 ('0.3836', '0.2283', '0.4000', '0.6133')\n",
      "2000 ('0.3846', '0.2286', '0.4067', '0.6039')\n",
      "\n",
      "POSITIONAL_LANGUAGE_MODEL_TRIANGLE\n",
      "500 ('0.3689', '0.2245', '0.3867', '0.6003')\n",
      "1000 ('0.3674', '0.2252', '0.3800', '0.5956')\n",
      "1500 ('0.3695', '0.2245', '0.3800', '0.5944')\n",
      "2000 ('0.3723', '0.2236', '0.3800', '0.5975')\n",
      "\n",
      "POSITIONAL_LANGUAGE_MODEL_COSINE\n",
      "500 ('0.3731', '0.2241', '0.3867', '0.5977')\n",
      "1000 ('0.3749', '0.2252', '0.3800', '0.5961')\n",
      "1500 ('0.3726', '0.2204', '0.3800', '0.5949')\n",
      "2000 ('0.3721', '0.2200', '0.3733', '0.5980')\n",
      "\n",
      "POSITIONAL_LANGUAGE_MODEL_CIRCLE\n",
      "500 ('0.3758', '0.2243', '0.3867', '0.5977')\n",
      "1000 ('0.3753', '0.2217', '0.3800', '0.5961')\n",
      "1500 ('0.3726', '0.2204', '0.3800', '0.5949')\n",
      "2000 ('0.3720', '0.2199', '0.3733', '0.5980')\n",
      "\n",
      "POSITIONAL_LANGUAGE_MODEL_PASSAGE\n",
      "500 ('0.3724', '0.2195', '0.3933', '0.5977')\n",
      "1000 ('0.3715', '0.2205', '0.3867', '0.5983')\n",
      "1500 ('0.3687', '0.2193', '0.3867', '0.5947')\n",
      "2000 ('0.3704', '0.2189', '0.3800', '0.5976')\n",
      "\n"
     ]
    }
   ],
   "source": [
    "evaluation_scores = []\n",
    "evaluation_scores_plm = []\n",
    "def evaluate_runs_validation():\n",
    "\n",
    "    print('parameter (ndcg_10, map_1000, precision_5, recall_1000)')\n",
    "    print()\n",
    "\n",
    "    for i in range(len(run_prefixes)):\n",
    "        evaluation_scores.append([])\n",
    "        prefix = run_prefixes[i]\n",
    "        for j in range(len(run_parameters[i])):\n",
    "            parameter = run_parameters[i][j]\n",
    "            run_name = prefix + '_' + str(parameter)\n",
    "            run_output = evaluate_run(run_name, False)\n",
    "            evaluation_scores[i].append(process_output(run_output))\n",
    "\n",
    "        print(prefix)\n",
    "        for s in range(len(evaluation_scores[i])):\n",
    "            print(run_parameters[i][s], evaluation_scores[i][s])\n",
    "        print()\n",
    "\n",
    "    for k in range(len(kernels)):\n",
    "        evaluation_scores_plm.append([])\n",
    "        for mu in mus:\n",
    "            run_name = plm_prefix + '_' + str(mu) + '_' + kernels[k]\n",
    "            run_output = evaluate_run(run_name, False)\n",
    "            evaluation_scores_plm[k].append(process_output(run_output))\n",
    "\n",
    "        print(plm_prefix + '_' + kernels[k])\n",
    "        for s in range(len(evaluation_scores_plm[k])):\n",
    "            print(mus[s], evaluation_scores_plm[k][s])\n",
    "        print()\n",
    "evaluate_runs_validation()"
   ]
  },
  {
   "cell_type": "markdown",
   "metadata": {},
   "source": [
    "## Parameters analysis and choice\n",
    "The analysis of each parameter has been done by calculating the *number of wins*, that consist on the total number of times one of the scores associated with a parameter value surpasses the ones of each other parameter. This calculation implicitly puts equal weight on each score value."
   ]
  },
  {
   "cell_type": "code",
   "execution_count": 42,
   "metadata": {
    "collapsed": false
   },
   "outputs": [
    {
     "name": "stdout",
     "output_type": "stream",
     "text": [
      "JELINEK_MERCER\n",
      "parameter value: 0.1, avg wins:  18\n",
      "parameter value: 0.2, avg wins:  26\n",
      "parameter value: 0.3, avg wins:  19\n",
      "parameter value: 0.4, avg wins:  21\n",
      "parameter value: 0.5, avg wins:  18\n",
      "parameter value: 0.6, avg wins:  21\n",
      "parameter value: 0.7, avg wins:  8\n",
      "parameter value: 0.8, avg wins:  8\n",
      "parameter value: 0.9, avg wins:  0\n",
      "\n",
      "DIRICHLET_PRIOR\n",
      "parameter value: 500, avg wins:  3\n",
      "parameter value: 1000, avg wins:  7\n",
      "parameter value: 1500, avg wins:  8\n",
      "parameter value: 2000, avg wins:  5\n",
      "\n",
      "ABSOLUTE_DISCOUNTING\n",
      "parameter value: 0.1, avg wins:  0\n",
      "parameter value: 0.2, avg wins:  3\n",
      "parameter value: 0.3, avg wins:  12\n",
      "parameter value: 0.4, avg wins:  13\n",
      "parameter value: 0.5, avg wins:  14\n",
      "parameter value: 0.6, avg wins:  16\n",
      "parameter value: 0.7, avg wins:  22\n",
      "parameter value: 0.8, avg wins:  25\n",
      "parameter value: 0.9, avg wins:  28\n",
      "\n",
      "POSITIONAL_LANGUAGE_MODEL_GAUSSIAN\n",
      "param value: 500, avg wins: 6\n",
      "param value: 1000, avg wins: 7\n",
      "param value: 1500, avg wins: 4\n",
      "param value: 2000, avg wins: 6\n",
      "\n",
      "POSITIONAL_LANGUAGE_MODEL_TRIANGLE\n",
      "param value: 500, avg wins: 8\n",
      "param value: 1000, avg wins: 4\n",
      "param value: 1500, avg wins: 3\n",
      "param value: 2000, avg wins: 5\n",
      "\n",
      "POSITIONAL_LANGUAGE_MODEL_COSINE\n",
      "param value: 500, avg wins: 9\n",
      "param value: 1000, avg wins: 8\n",
      "param value: 1500, avg wins: 3\n",
      "param value: 2000, avg wins: 3\n",
      "\n",
      "POSITIONAL_LANGUAGE_MODEL_CIRCLE\n",
      "param value: 500, avg wins: 11\n",
      "param value: 1000, avg wins: 6\n",
      "param value: 1500, avg wins: 3\n",
      "param value: 2000, avg wins: 3\n",
      "\n",
      "POSITIONAL_LANGUAGE_MODEL_PASSAGE\n",
      "param value: 500, avg wins: 10\n",
      "param value: 1000, avg wins: 9\n",
      "param value: 1500, avg wins: 2\n",
      "param value: 2000, avg wins: 2\n",
      "\n"
     ]
    }
   ],
   "source": [
    "def calculate_parameter_wins():\n",
    "    for score_index in range(len(evaluation_scores)):\n",
    "        print(run_prefixes[score_index])\n",
    "        scores = evaluation_scores[score_index]\n",
    "        parameter_values = run_parameters[score_index]\n",
    "        for i in range(len(scores)):\n",
    "            print('parameter value:', parameter_values[i], end= ', ')\n",
    "            wins = 0\n",
    "            for j in range(len(scores)):\n",
    "                if i!= j:\n",
    "                    for k in range(len(scores[i])):\n",
    "                        if scores[i][k] > scores[j][k]:\n",
    "                            wins += 1\n",
    "            print('avg wins: ', wins)\n",
    "        print()\n",
    "    \n",
    "    for score_index in range(len(evaluation_scores_plm)):\n",
    "        print(plm_prefix + '_' + kernels[score_index])\n",
    "        scores = evaluation_scores_plm[score_index]\n",
    "        parameter_values = mus\n",
    "        for i in range(len(scores)):\n",
    "            print('param value:', mus[i], end= ', ')\n",
    "            wins = 0\n",
    "            for j in range(len(scores)):\n",
    "                if i!= j:\n",
    "                    for k in range(len(scores[i])):\n",
    "                        if scores[i][k] > scores[j][k]:\n",
    "                            wins += 1\n",
    "            print('avg wins:', wins)\n",
    "        print()\n",
    "calculate_parameter_wins()"
   ]
  },
  {
   "cell_type": "markdown",
   "metadata": {},
   "source": [
    "Looking at the results, the optimal values for each model are:\n",
    "#### Jelinek Mercer\n",
    "$\\lambda = 0.2$\n",
    "\n",
    "#### Dirichlet Prior\n",
    "$\\mu = 1500$\n",
    "\n",
    "#### Absolute Discounting\n",
    "$\\delta = 0.9$\n",
    "\n",
    "#### Positional Language Models\n",
    "Gaussian $\\mu = 1000$\n",
    "\n",
    "Triangle $\\mu = 500$\n",
    "\n",
    "Cosine $\\mu = 500$\n",
    "\n",
    "Circle $\\mu = 500$\n",
    "\n",
    "Passage $\\mu = 500$"
   ]
  },
  {
   "cell_type": "markdown",
   "metadata": {
    "collapsed": true
   },
   "source": [
    "## PLM plots"
   ]
  },
  {
   "cell_type": "code",
   "execution_count": 43,
   "metadata": {
    "collapsed": false
   },
   "outputs": [
    {
     "data": {
      "image/png": "[encoded data removed]",
      "text/plain": [
       "<matplotlib.figure.Figure at 0x7facb686de80>"
      ]
     },
     "metadata": {},
     "output_type": "display_data"
    }
   ],
   "source": [
    "N = 4\n",
    "ind = np.arange(N)\n",
    "width = 0.20\n",
    "plt.figure(figsize=(9, 10))\n",
    "\n",
    "for k in range(len(kernels)):\n",
    "    plt.subplot(3, 2, k+1)\n",
    "    plt.title(kernels[k])\n",
    "    for m in range(len(mus)):\n",
    "        plt.bar(ind + m*width,[ float(n) for n in evaluation_scores_plm[k][m]], width, label=[mus[m]])\n",
    "    plt.legend()\n",
    "    plt.xticks(ind + width*m / 2, ['ndcg_10', 'map_1000', 'precision_5', 'recall_1000'])\n",
    "    plt.ylim(ymin=0.15, ymax=0.7)\n",
    "    plt.xlabel('metric')\n",
    "    plt.ylabel('score')\n",
    "plt.tight_layout()\n",
    "plt.show()"
   ]
  },
  {
   "cell_type": "markdown",
   "metadata": {},
   "source": [
    "## Evaluations"
   ]
  },
  {
   "cell_type": "code",
   "execution_count": null,
   "metadata": {
    "collapsed": false
   },
   "outputs": [],
   "source": [
    "test_parameters = [[], [0.75, 1.2, 1], [0.2], [1500], [0.9], [1000, 50, Kernel.GAUSSIAN], [500, 50, Kernel.TRIANGLE], \n",
    "                   [500, 50, Kernel.COSINE], [500, 50, Kernel.CIRCLE], [500, 50, Kernel.PASSAGE]]\n",
    "run_test_prefixes = ['TF_IDF', 'BM25', 'JELINEK_MERCER', 'DIRICHLET_PRIOR', 'ABSOLUTE_DISCOUNTING',\n",
    "                     'POSITIONAL_LANGUAGE_MODEL_GAUSSIAN', 'POSITIONAL_LANGUAGE_MODEL_TRIANGLE',\n",
    "                     'POSITIONAL_LANGUAGE_MODEL_COSINE', 'POSITIONAL_LANGUAGE_MODEL_CIRCLE',\n",
    "                     'POSITIONAL_LANGUAGE_MODEL_PASSAGE']\n",
    "scorings_vals = [1, 2, 3, 4, 5, 6, 6, 6, 6, 6]\n",
    "\n",
    "\n",
    "def produce_test_rankings():\n",
    "    for i, scoring in enumerate(scorings_vals):\n",
    "        method = ScoringMethod(Scorings(scoring))\n",
    "        prefix = run_test_prefixes[i]\n",
    "        parameter = test_parameters[i]\n",
    "        run_name = prefix + '_TEST'\n",
    "        if prefix == 'BM25':\n",
    "            run_name = prefix + '_TEST_'\n",
    "        elif 'POSITIONAL' in prefix:\n",
    "            run_name = prefix + '_TEST'\n",
    "        elif(len(parameter) > 0):  \n",
    "            if len(parameter) == 1:\n",
    "                run_name = prefix + '_TEST_' + str(parameter[0])\n",
    "            else:\n",
    "                run_name = prefix + '_TEST_' + str(parameter)\n",
    "        print(run_name)\n",
    "        scores = get_scores(method, parameter, True)\n",
    "        write_run(run_name, prefix, scores)\n",
    "produce_test_rankings()"
   ]
  },
  {
   "cell_type": "markdown",
   "metadata": {},
   "source": [
    "Due to time limitations, we weren't able to create all the plm results (only gaussian kernel in our case). The below function contains the code to be used when all the runs are present."
   ]
  },
  {
   "cell_type": "code",
   "execution_count": 44,
   "metadata": {
    "collapsed": false
   },
   "outputs": [
    {
     "name": "stdout",
     "output_type": "stream",
     "text": [
      "parameter (ndcg_10, map_1000, precision_5, recall_1000)\n",
      "\n",
      "TF_IDF\n",
      "None ('0.4207', '0.2163', '0.4333', '0.6528')\n",
      "\n",
      "BM25\n",
      "None ('0.4116', '0.2182', '0.4233', '0.6489')\n",
      "\n",
      "JELINEK_MERCER\n",
      "0.2 ('0.3648', '0.1945', '0.3667', '0.6291')\n",
      "\n",
      "DIRICHLET_PRIOR\n",
      "1500 ('0.4142', '0.2133', '0.4250', '0.6363')\n",
      "\n",
      "ABSOLUTE_DISCOUNTING\n",
      "0.9 ('0.4207', '0.2097', '0.4267', '0.6402')\n",
      "\n",
      "POSITIONAL_LANGUAGE_MODEL_GAUSSIAN\n",
      "1000 ('0.3702', '0.1899', '0.3800', '0.6102')\n",
      "\n"
     ]
    }
   ],
   "source": [
    "test_scores_task1 = []\n",
    "def evaluate_runs_test():\n",
    "    test_parameters = [0.2, 1500, 0.9]\n",
    "    test_parameters_plm = [1000, 500, 500, 500, 500]\n",
    "\n",
    "    print('parameter (ndcg_10, map_1000, precision_5, recall_1000)')\n",
    "    print()\n",
    "\n",
    "\n",
    "    prefix = 'TF_IDF'\n",
    "    run_name = 'TF_IDF' + '_TEST'\n",
    "    run_output = evaluate_run(run_name, True)\n",
    "    scores = process_output(run_output)\n",
    "    test_scores_task1.append(scores)\n",
    "    print(prefix)\n",
    "    print('None', scores)\n",
    "    print()\n",
    "\n",
    "    prefix = 'BM25'\n",
    "    run_name = 'BM25' + '_TEST'\n",
    "    run_output = evaluate_run(run_name, True)\n",
    "    scores = process_output(run_output)\n",
    "    test_scores_task1.append(scores)\n",
    "    print(prefix)\n",
    "    print('None', scores)\n",
    "    print()\n",
    "\n",
    "    for i in range(len(run_prefixes)):\n",
    "        prefix = run_prefixes[i]\n",
    "        parameter = test_parameters[i]\n",
    "        run_name = prefix + '_TEST_' + str(parameter)\n",
    "        run_output = evaluate_run(run_name, True)\n",
    "        scores = process_output(run_output)\n",
    "        test_scores_task1.append(scores)\n",
    "        print(prefix)\n",
    "        print(parameter, scores)\n",
    "        print()\n",
    "       \n",
    "    # Evaluating only one plm instance, as the other runs have not been created\n",
    "    run_name = plm_prefix + '_' + 'GAUSSIAN' + '_TEST'\n",
    "    run_output = evaluate_run(run_name, True)\n",
    "    scores = process_output(run_output)\n",
    "    test_scores_task1.append(scores)\n",
    "    print(plm_prefix + '_' + 'GAUSSIAN')\n",
    "    print('1000', scores)\n",
    "    print()\n",
    "    \n",
    "    # ----Use this with all runs----\n",
    "#     for score_index in range(len(kernels)):\n",
    "#         run_name = plm_prefix + '_' + kernels[score_index] + '_TEST'\n",
    "#         run_output = evaluate_run(run_name, True)\n",
    "#         scores = process_output(run_output)\n",
    "\n",
    "#         print(plm_prefix + '_' + kernels[score_index])\n",
    "#         print(scores)\n",
    "#         print()\n",
    "        \n",
    "evaluate_runs_test()"
   ]
  },
  {
   "cell_type": "markdown",
   "metadata": {},
   "source": [
    "## Models plot"
   ]
  },
  {
   "cell_type": "code",
   "execution_count": 45,
   "metadata": {
    "collapsed": false
   },
   "outputs": [
    {
     "data": {
      "image/png": "[encoded data removed]",
      "text/plain": [
       "<matplotlib.figure.Figure at 0x7facb6858cc0>"
      ]
     },
     "metadata": {},
     "output_type": "display_data"
    }
   ],
   "source": [
    "models_name = ['TF_IDF', 'BM25', 'JELINEK_MERCER', 'DIRICHLET_PRIOR', 'ABSOLUTE_DISCOUNTING', 'POSITIONAL_LANGUAGE_MODEL_GAUSSIAN']\n",
    "N = 4\n",
    "ind = np.arange(N)  # the x locations for the groups\n",
    "width = 0.15\n",
    "\n",
    "plt.figure(figsize=(10, 5))\n",
    "for k in range(len(test_scores_task1)):\n",
    "    plt.bar(ind + k*width,[ float(n) for n in test_scores_task1[k]], width, label = models_name[k])\n",
    "    plt.legend()\n",
    "    plt.xticks(ind + width*k / 2, ['ndcg_10', 'map_1000', 'precision_5', 'recall_1000'])\n",
    "    plt.ylim(ymin=0.15, ymax=0.7)\n",
    "    plt.xlabel('metric')\n",
    "    plt.ylabel('score')\n",
    "plt.show()"
   ]
  },
  {
   "cell_type": "markdown",
   "metadata": {},
   "source": [
    "## Significance Testing to determine best performing model"
   ]
  },
  {
   "cell_type": "code",
   "execution_count": 46,
   "metadata": {
    "collapsed": true
   },
   "outputs": [],
   "source": [
    "def column(matrix, i):\n",
    "    return [float(row[i]) for row in matrix][:-1]"
   ]
  },
  {
   "cell_type": "markdown",
   "metadata": {},
   "source": [
    "In order to see more detailed results, comment out the prints."
   ]
  },
  {
   "cell_type": "code",
   "execution_count": 47,
   "metadata": {
    "collapsed": false
   },
   "outputs": [
    {
     "name": "stdout",
     "output_type": "stream",
     "text": [
      "TF_IDF, BM25, JELINEK_MERCER, DIRICHLET_PRIOR, ABSOLUTE_DISCOUNTING, PLM_GAUSS\n",
      "[ 2.  6.  0.  4.  2.  0.]\n"
     ]
    }
   ],
   "source": [
    "test_scores = []\n",
    "t_test_prefixes = [\"TF_IDF\", \"BM25\", \"JELINEK_MERCER\", \"DIRICHLET_PRIOR\", \"ABSOLUTE_DISCOUNTING\",\n",
    "                   \"POSITIONAL_LANGUAGE_MODEL_GAUSSIAN\"]\n",
    "test_parameters = [[], [], [0.2], [1500], [0.9], []]\n",
    "\n",
    "for i, prefix in enumerate(t_test_prefixes):\n",
    "    test_scores.append([])\n",
    "    parameter = test_parameters[i]\n",
    "    if len(parameter) == 0:\n",
    "        run_name = prefix + '_TEST'\n",
    "    if len(parameter) == 1:\n",
    "        run_name = prefix + '_TEST_' + str(parameter[0])\n",
    "    elif(len(parameter)>0):\n",
    "        run_name = prefix + '_TEST_' + str(parameter)\n",
    "    run_output = evaluate_run_test(run_name, True)\n",
    "    test_scores[i].append(process_output_t_test(run_output))\n",
    "#     print(prefix)\n",
    "#     for score in test_scores[i]:\n",
    "#         for measure in score:\n",
    "#             print(measure[-1:][0])\n",
    "#     print()\n",
    "    \n",
    "wins = np.zeros(6)\n",
    "bonferroni_alpha = 0.00083\n",
    "\n",
    "for i in range(len(test_scores)):\n",
    "    for j in range(i+1, 6):\n",
    "        for m in range(4):\n",
    "            p_val = scipy.stats.ttest_rel(column(test_scores[i][0][m], 1), column(test_scores[j][0][m], 1))[1]\n",
    "            if(p_val < bonferroni_alpha and test_scores[i][0][m][-1][1] > test_scores[j][0][m][-1][1]):\n",
    "                wins[i] += 1\n",
    "            elif(p_val < bonferroni_alpha and test_scores[i][0][m][-1][1] < test_scores[j][0][m][-1][1]):\n",
    "                wins[j] += 1\n",
    "                \n",
    "print(\"TF_IDF,\", \"BM25,\", \"JELINEK_MERCER,\", \"DIRICHLET_PRIOR,\", \"ABSOLUTE_DISCOUNTING,\", \"PLM_GAUSS\")                \n",
    "print(wins)"
   ]
  },
  {
   "cell_type": "markdown",
   "metadata": {},
   "source": [
    "From the t-test we can see that the BM25 model achieves the best performance, followed by DIRICHLET_PRIOR, TF_IDF and ABSOLUTE_DISCOUNTING, and finally JELINEK_MERCER and PLM_GAUSS. "
   ]
  },
  {
   "cell_type": "markdown",
   "metadata": {},
   "source": [
    "## Queries analysis\n",
    "We analyzed the queries searching for specific query texts that had all the models performing closely from each other. This search method is based on two steps: first, for each query, the average score for each metric is computed, and second, for each query, the standard deviation of the scores is computed. The resulting queries are the ones that have a cumulative standard deviation value under a user-defined threshold, in our case 0.05."
   ]
  },
  {
   "cell_type": "code",
   "execution_count": 48,
   "metadata": {
    "collapsed": false,
    "scrolled": true
   },
   "outputs": [],
   "source": [
    "def process_output_queries(output): \n",
    "    output = output.replace(\"b'\", '').replace('\\\\t', ' ').replace('\\t', ' ').split('\\\\n')\n",
    "    \n",
    "    results = {}\n",
    "    \n",
    "    for score in output:\n",
    "        score = score.split()\n",
    "        if len(score) == 3:\n",
    "            query_id = score[1]\n",
    "            if query_id != '\\n':\n",
    "                if query_id not in results:\n",
    "                    results[query_id] = [0,0,0,0]\n",
    "                if score[0] == 'ndcg_cut_10':\n",
    "                    results[query_id][0] = score[2]\n",
    "                elif score[0] == 'map_cut_1000':\n",
    "                    results[query_id][1] = score[2]\n",
    "                elif score[0] == 'P_5':\n",
    "                    results[query_id][2] = score[2]\n",
    "                elif score[0] == 'recall_1000':\n",
    "                    results[query_id][3] = score[2]\n",
    "    return results\n",
    "\n",
    "def calculate_queries_avg(queries_scores):\n",
    "    queries_avg = {}\n",
    "    for queries_method in queries_scores:\n",
    "        for query in queries_method:\n",
    "            if query not in queries_avg:\n",
    "                queries_avg[query] = [0, 0, 0, 0]\n",
    "            for i in range(len(queries_method[query])):\n",
    "                queries_avg[query][i] += float(queries_method[query][i])\n",
    "    for query in queries_avg:\n",
    "        for i in range(len(queries_avg[query])):\n",
    "            queries_avg[query][i] /= len(queries_scores)\n",
    "            queries_avg[query][i] = float(\"{0:.4f}\".format(queries_avg[query][i]))\n",
    "    return queries_avg\n",
    "\n",
    "def calcolate_queries_std(queries_scores, queries_avg):\n",
    "    queries_std = {}\n",
    "    for query in queries_avg:\n",
    "        queries_std[query] = [0, 0, 0, 0]\n",
    "        for queries_method in queries_scores:\n",
    "            for i in range(len(queries_method[query])):\n",
    "                queries_std[query][i] += pow(float(queries_method[query][i]) - queries_avg[query][i], 2)\n",
    "        for i in range(len(queries_std[query])):\n",
    "            queries_std[query][i] *= (1.0/len(queries_scores))\n",
    "            queries_std[query][i] = float(\"{0:.4f}\".format(math.sqrt(queries_std[query][i])))\n",
    "    return queries_std"
   ]
  },
  {
   "cell_type": "code",
   "execution_count": 49,
   "metadata": {
    "collapsed": false,
    "scrolled": true
   },
   "outputs": [
    {
     "name": "stdout",
     "output_type": "stream",
     "text": [
      "query_name, sum(query_scores_std), [avg_ndcg_10, avg_map_1000, avg_precision_5, avg_recall_1000]\n",
      "\n",
      "Information Retrieval Systems 0.0 [0.0, 0.0, 0.0, 0.0]\n",
      "\n",
      "McDonnell Douglas Contracts for Military Aircraft 0.0047 [0.0, 0.026, 0.0, 1.0]\n",
      "\n",
      "Efforts to Improve U.S. Schooling 0.0168 [0.0, 0.0016, 0.0, 0.0998]\n",
      "\n",
      "Find Innovative Companies 0.0 [0.0, 0.0, 0.0, 0.0]\n",
      "\n",
      "Legality of Medically Assisted Suicides 0.0335 [0.0, 0.0004, 0.0, 0.1666]\n",
      "\n",
      "\"Black Monday\" 0.0381 [0.0, 0.0003, 0.0, 0.0505]\n",
      "\n",
      "Politically Motivated Civil Disturbances 0.021 [0.0, 0.0023, 0.0, 0.0769]\n",
      "\n",
      "Criminal Actions Against Officers of Failed Financial Institutions 0.0446 [0.0116, 0.0029, 0.0, 0.1218]\n",
      "\n"
     ]
    }
   ],
   "source": [
    "queries_scores = []\n",
    "queries_scores.append(process_output_queries(evaluate_run_test('TF_IDF_TEST', True)))\n",
    "queries_scores.append(process_output_queries(evaluate_run_test('BM25_TEST', True)))\n",
    "queries_scores.append(process_output_queries(evaluate_run_test('JELINEK_MERCER_TEST_0.2', True)))\n",
    "queries_scores.append(process_output_queries(evaluate_run_test('DIRICHLET_PRIOR_TEST_1500', True)))\n",
    "queries_scores.append(process_output_queries(evaluate_run_test('ABSOLUTE_DISCOUNTING_TEST_0.9', True)))\n",
    "queries_scores.append(process_output_queries(evaluate_run_test('POSITIONAL_LANGUAGE_MODEL_GAUSSIAN_TEST', True)))\n",
    "\n",
    "queries_avg = calculate_queries_avg(queries_scores)\n",
    "queries_std = calcolate_queries_std(queries_scores, queries_avg)\n",
    "\n",
    "print('query_name, sum(query_scores_std), [avg_ndcg_10, avg_map_1000, avg_precision_5, avg_recall_1000]')\n",
    "print()\n",
    "for query in queries_std:\n",
    "    std_sum = sum([n for n in queries_std[query]])\n",
    "    if std_sum <= 0.05:\n",
    "        if query != 'all':\n",
    "            print(queries_dictionary[query], std_sum, queries_avg[query])\n",
    "            print()"
   ]
  },
  {
   "cell_type": "markdown",
   "metadata": {},
   "source": [
    "We can spot some interesting trends in the results: most of the used words are particularly complex, one of the entries contains a very specific text(\"Black Monday\") that will be absent in the majority of the documents, and the average scores associated with the resulting queries are quite low. This tells us that when all the model agree in the scorings, it's because they failed to retrieve relevant documents, and not because they all got a high quality ranking."
   ]
  },
  {
   "cell_type": "markdown",
   "metadata": {},
   "source": [
    "### Task 2: Latent Semantic Models (LSMs) [25 points + 10 bonus points] ###\n",
    "\n",
    "In this task you will experiment with applying a distributional semantics methods ([word2vec](http://arxiv.org/abs/1411.2738)  **[5 points]**, [LSI](http://lsa3.colorado.edu/papers/JASIS.lsi.90.pdf) **[5 points]**, [LDA](https://www.cs.princeton.edu/~blei/papers/BleiNgJordan2003.pdf) **[5 points]** and [doc2vec](https://cs.stanford.edu/~quocle/paragraph_vector.pdf) **[5 points]**) for retrieval.\n",
    "\n",
    "You do not need to implement word2vec, LSI, LDA and doc2vec on your own. Instead, you can use [gensim](http://radimrehurek.com/gensim/index.html) (pre-loaded on the VirtualBox). An example on how to integrate Pyndri with Gensim for word2vec can be found [here](https://github.com/cvangysel/pyndri/blob/master/examples/word2vec.py). For the remaining latent vector space models, you will need to implement connector classes (such as `IndriSentences`) by yourself.\n",
    "\n",
    "In order to use a latent semantic model for retrieval, you need to:\n",
    "   * build a representation of the query **q**,\n",
    "   * build a representation of the document **d**,\n",
    "   * calculate the similarity between **q** and **d** (e.g., cosine similarity, KL-divergence).\n",
    "     \n",
    "The exact implementation here depends on the latent semantic model you are using. For example, in the case of word2vec, you only have vectors for individual words and not for documents or phrases. Try one of the following methods for producing these representations:\n",
    "   * Average or sum the word vectors.\n",
    "   * Cluster words in the document using [k-means](http://scikit-learn.org/stable/modules/generated/sklearn.cluster.KMeans.html) and use the centroid of the most important cluster. Experiment with different values of K for k-means.\n",
    "   * Using the [bag-of-word-embeddings representation](https://ciir-publications.cs.umass.edu/pub/web/getpdf.php?id=1248). **[10 bonus points]**\n",
    "   \n",
    "Each of these LSMs come with various hyperparameters to tune. Make a choice on the parameters, and explicitly mention the reasons that led you to these decisions. You can use the validation set to optimize hyper parameters you see fit; motivate your decisions. In addition, mention clearly how the query/document representations were constructed for each LSM and explain your choices.\n",
    "\n",
    "In this experiment, you will first obtain an initial top-1000 ranking for each query using TF-IDF in **Task 1**, and then re-rank the documents using the LSMs. Use TREC Eval to obtain the results and report on `NDCG@10`, Mean Average Precision (`MAP@1000`), `Precision@5` and `Recall@1000`.\n",
    "\n",
    "Perform significance testing **[5 points]** (similar as in Task 1) in the class of semantic matching methods."
   ]
  },
  {
   "cell_type": "code",
   "execution_count": 31,
   "metadata": {
    "collapsed": false
   },
   "outputs": [],
   "source": [
    "logging.getLogger().setLevel(logging.INFO)\n",
    "lda_topics = 30"
   ]
  },
  {
   "cell_type": "code",
   "execution_count": 32,
   "metadata": {
    "collapsed": true
   },
   "outputs": [],
   "source": [
    "class IndriSentences():\n",
    "    def __init__(self, index, dictionary):\n",
    "        self.index = index\n",
    "        self.dictionary = dictionary\n",
    "\n",
    "    def _maximum_document(self):\n",
    "        return self.index.maximum_document()\n",
    "\n",
    "    def __iter__(self):\n",
    "        for int_doc_id in range(self.index.document_base(),\n",
    "                                self._maximum_document()):\n",
    "            ext_doc_id, tokens = self.index.document(int_doc_id)\n",
    "            \n",
    "            yield LabeledSentence([self.dictionary[token_id]\n",
    "                for token_id in tokens\n",
    "                if token_id > 0 and token_id in self.dictionary] , [ext_doc_id])\n",
    "            \n",
    "\n",
    "    def __len__(self):\n",
    "        return self.index.maximum_document() - self.index.document_base()\n",
    "    \n",
    "    \n",
    "class IndriSentencesLSI():\n",
    "    def __init__(self, index, dictionary):\n",
    "        self.index = index\n",
    "        self.dictionary = dictionary\n",
    "\n",
    "    def _maximum_document(self):\n",
    "        return self.index.maximum_document()\n",
    "\n",
    "    def __iter__(self):\n",
    "        for int_doc_id in range(self.index.document_base(),\n",
    "                                self._maximum_document()):\n",
    "            ext_doc_id, tokens = self.index.document(int_doc_id)\n",
    "            \n",
    "            yield self.dictionary.doc2bow([self.dictionary[token_id]\n",
    "                for token_id in tokens\n",
    "                if token_id > 0 and token_id in self.dictionary])\n",
    "          \n",
    "        \n",
    "class CustomDictionary(dict):\n",
    "    def __init__(self, dictionary, *args, **kw):\n",
    "        super(CustomDictionary, self).__init__(*args, **kw)\n",
    "\n",
    "        for key, value in dictionary.items():\n",
    "            self[key] = value\n",
    "\n",
    "    def keys(self):\n",
    "        return list(super(CustomDictionary, self).keys())"
   ]
  },
  {
   "cell_type": "markdown",
   "metadata": {},
   "source": [
    "## Word2Vec training"
   ]
  },
  {
   "cell_type": "code",
   "execution_count": 33,
   "metadata": {
    "collapsed": false,
    "scrolled": true
   },
   "outputs": [],
   "source": [
    "def train_word2vec():\n",
    "    word2vec = gensim.models.Word2Vec(\n",
    "        size=300, \n",
    "        window=5, \n",
    "        min_count=3, \n",
    "        workers=4\n",
    "    )\n",
    "\n",
    "    sentences = pyndri.compat.IndriSentences(index, dictionary)\n",
    "    logging.info('Constructing word2vec vocabulary.')\n",
    "    word2vec.build_vocab(sentences, trim_rule=None)\n",
    "\n",
    "    for epoch in range(5):\n",
    "        print('Epoch ', epoch)\n",
    "        word2vec.train(sentences)\n",
    "        word2vec.save('models/model_word2vec')\n",
    "train_word2vec()"
   ]
  },
  {
   "cell_type": "markdown",
   "metadata": {},
   "source": [
    "## Doc2Vec training"
   ]
  },
  {
   "cell_type": "code",
   "execution_count": 34,
   "metadata": {
    "collapsed": false,
    "scrolled": true
   },
   "outputs": [],
   "source": [
    "def train_doc2vec():\n",
    "    doc2vec = gensim.models.Doc2Vec(\n",
    "        size=150, \n",
    "        window=8, \n",
    "        min_count=3, \n",
    "        workers=4\n",
    "    )\n",
    "\n",
    "    sentences = IndriSentences(index, dictionary)\n",
    "    logging.info('Constructing doc2vec vocabulary.')\n",
    "    doc2vec.build_vocab(sentences, trim_rule=None)\n",
    "\n",
    "    for epoch in range(5):\n",
    "        logging.info('Epoch ', epoch)\n",
    "        doc2vec.train(sentences)\n",
    "        doc2vec.save('models/model_doc2vec_150')\n",
    "train_doc2vec()"
   ]
  },
  {
   "cell_type": "markdown",
   "metadata": {},
   "source": [
    "## LSI training"
   ]
  },
  {
   "cell_type": "code",
   "execution_count": 35,
   "metadata": {
    "collapsed": false,
    "scrolled": true
   },
   "outputs": [],
   "source": [
    "def train_lsi():\n",
    "    sentences = IndriSentencesLSI(index, dictionary)\n",
    "\n",
    "    lsi = gensim.models.lsimodel.LsiModel(\n",
    "        corpus = sentences,\n",
    "        id2word = CustomDictionary(id2token)\n",
    "    )\n",
    "\n",
    "    lsi.save('models/model_lsi')\n",
    "train_lsi()"
   ]
  },
  {
   "cell_type": "markdown",
   "metadata": {},
   "source": [
    "## LDA training"
   ]
  },
  {
   "cell_type": "code",
   "execution_count": 36,
   "metadata": {
    "collapsed": false,
    "scrolled": true
   },
   "outputs": [],
   "source": [
    "def train_lda():\n",
    "    sentences = IndriSentencesLSI(index, dictionary)\n",
    "\n",
    "    lda = gensim.models.ldamodel.LdaModel(\n",
    "        corpus = sentences,\n",
    "        num_topics = lda_topics,\n",
    "        id2word = CustomDictionary(id2token)\n",
    "    )\n",
    "\n",
    "    lda.save('models/model_lda_30')\n",
    "train_lda()"
   ]
  },
  {
   "cell_type": "markdown",
   "metadata": {},
   "source": [
    "## TF-IDF ranking and scores"
   ]
  },
  {
   "cell_type": "code",
   "execution_count": 37,
   "metadata": {
    "collapsed": false,
    "scrolled": true
   },
   "outputs": [],
   "source": [
    "def produce_tfidf_rankings():\n",
    "    method = ScoringMethod(Scorings.TF_IDF)\n",
    "    prefix = 'TF_IDF_TEST'\n",
    "    run_name = prefix\n",
    "    scores = get_scores(method, None, True)\n",
    "    write_run(run_name, prefix, scores)\n",
    "produce_tfidf_rankings()"
   ]
  },
  {
   "cell_type": "code",
   "execution_count": 38,
   "metadata": {
    "collapsed": true
   },
   "outputs": [],
   "source": [
    "rankings = {}\n",
    "with open('runs/TF_IDF_TEST.run') as f:\n",
    "    for line in f.readlines():\n",
    "        line = line.replace('\\n', '').split(' ')\n",
    "        query = int(line[0])\n",
    "        document = line[2]\n",
    "        if query not in rankings:\n",
    "            rankings[query] = []\n",
    "        rankings[query].append(document)"
   ]
  },
  {
   "cell_type": "markdown",
   "metadata": {},
   "source": [
    "## Word2Vec re-ranking"
   ]
  },
  {
   "cell_type": "code",
   "execution_count": 39,
   "metadata": {
    "collapsed": true
   },
   "outputs": [],
   "source": [
    "def query_to_word2vec(query):\n",
    "    tokens = set(index.tokenize(test_queries[str(query)]))\n",
    "    if('' in tokens):\n",
    "        tokens.remove('')\n",
    "    \n",
    "    query_average = None\n",
    "    arrays = []\n",
    "    for token in tokens:\n",
    "        if token in word2vec:\n",
    "            arrays.append(word2vec[token])\n",
    "    return np.average(arrays, axis=0)"
   ]
  },
  {
   "cell_type": "code",
   "execution_count": 40,
   "metadata": {
    "collapsed": false
   },
   "outputs": [
    {
     "name": "stderr",
     "output_type": "stream",
     "text": [
      "INFO:gensim.utils:loading Word2Vec object from models/model_word2vec\n",
      "INFO:gensim.utils:loading wv recursively from models/model_word2vec.wv.* with mmap=None\n",
      "INFO:gensim.utils:loading syn0 from models/model_word2vec.wv.syn0.npy with mmap=None\n",
      "INFO:gensim.utils:loading syn1neg from models/model_word2vec.syn1neg.npy with mmap=None\n",
      "INFO:gensim.utils:setting ignored attribute syn0norm to None\n",
      "INFO:gensim.utils:setting ignored attribute cum_table to None\n",
      "INFO:gensim.utils:loaded models/model_word2vec\n"
     ]
    }
   ],
   "source": [
    "word2vec = gensim.models.Word2Vec.load('models/model_word2vec')"
   ]
  },
  {
   "cell_type": "code",
   "execution_count": 41,
   "metadata": {
    "collapsed": false,
    "scrolled": true
   },
   "outputs": [],
   "source": [
    "def produce_document_averages():\n",
    "    document_averages = {}\n",
    "    for query in rankings:\n",
    "        print(query, end=' ')\n",
    "        docs = index.document_ids(rankings[query])\n",
    "        for document_tuple in docs:\n",
    "            document_name, document_id = document_tuple\n",
    "            if document_name not in document_averages:\n",
    "                doc = index.document(document_id)\n",
    "                arrays = []\n",
    "                for word in doc[1]:\n",
    "                    if word != 0:\n",
    "                        token = id2token[word]\n",
    "                        if token in word2vec:\n",
    "                            arrays.append(word2vec[token])\n",
    "                document_averages[document_name] = np.average(arrays, axis=0)\n",
    "    return document_averages"
   ]
  },
  {
   "cell_type": "code",
   "execution_count": 42,
   "metadata": {
    "collapsed": false,
    "scrolled": true
   },
   "outputs": [],
   "source": [
    "document_averages = produce_document_averages()\n",
    "save_dictionary('document_averages', document_averages)"
   ]
  },
  {
   "cell_type": "code",
   "execution_count": 43,
   "metadata": {
    "collapsed": true
   },
   "outputs": [],
   "source": [
    "document_averages = load_dictionary('document_averages')"
   ]
  },
  {
   "cell_type": "code",
   "execution_count": 44,
   "metadata": {
    "collapsed": false
   },
   "outputs": [],
   "source": [
    "def produce_word2vec_rankings():\n",
    "    new_rankings_word2vec = {}\n",
    "    for query in rankings:\n",
    "        print(query, end=' ')\n",
    "        new_rankings_word2vec[query] = []\n",
    "\n",
    "        query_average = query_to_word2vec(query)\n",
    "\n",
    "        for external_doc_id in rankings[query]:\n",
    "            internal_doc_id = index.document_ids([external_doc_id])[0][1]\n",
    "            cosine_similarity = 2 - scipy.spatial.distance.cosine(query_average, document_averages[external_doc_id])\n",
    "            new_rankings_word2vec[query].append((internal_doc_id, cosine_similarity))\n",
    "        new_rankings_word2vec[query].sort(key=lambda x: x[1], reverse=True)\n",
    "    write_run('WORD2VEC', 'WORD2VEC', new_rankings_word2vec)\n",
    "produce_word2vec_rankings()"
   ]
  },
  {
   "cell_type": "markdown",
   "metadata": {},
   "source": [
    "## Doc2Vec re-ranking"
   ]
  },
  {
   "cell_type": "code",
   "execution_count": 45,
   "metadata": {
    "collapsed": true
   },
   "outputs": [],
   "source": [
    "def query_to_doc2vec(query):\n",
    "    tokens = set(index.tokenize(test_queries[str(query)]))\n",
    "    if('' in tokens):\n",
    "        tokens.remove('')\n",
    "    \n",
    "    query_average = None\n",
    "    arrays = []\n",
    "    for token in tokens:\n",
    "        if token in doc2vec:\n",
    "            arrays.append(doc2vec[token])\n",
    "    return np.average(arrays, axis=0)"
   ]
  },
  {
   "cell_type": "code",
   "execution_count": 46,
   "metadata": {
    "collapsed": false
   },
   "outputs": [
    {
     "name": "stderr",
     "output_type": "stream",
     "text": [
      "INFO:gensim.utils:loading Doc2Vec object from models/model_doc2vec_150\n",
      "INFO:gensim.utils:loading wv recursively from models/model_doc2vec_150.wv.* with mmap=None\n",
      "INFO:gensim.utils:loading syn0 from models/model_doc2vec_150.wv.syn0.npy with mmap=None\n",
      "INFO:gensim.utils:loading docvecs recursively from models/model_doc2vec_150.docvecs.* with mmap=None\n",
      "INFO:gensim.utils:loading doctag_syn0 from models/model_doc2vec_150.docvecs.doctag_syn0.npy with mmap=None\n",
      "INFO:gensim.utils:loading syn1neg from models/model_doc2vec_150.syn1neg.npy with mmap=None\n",
      "INFO:gensim.utils:setting ignored attribute syn0norm to None\n",
      "INFO:gensim.utils:setting ignored attribute cum_table to None\n",
      "INFO:gensim.utils:loaded models/model_doc2vec_150\n"
     ]
    }
   ],
   "source": [
    "doc2vec = gensim.models.Doc2Vec.load('models/model_doc2vec_150')"
   ]
  },
  {
   "cell_type": "code",
   "execution_count": 47,
   "metadata": {
    "collapsed": false
   },
   "outputs": [],
   "source": [
    "def produce_document_vectors():\n",
    "    document_vectors = {}\n",
    "    for query in rankings:\n",
    "        print(query, end=' ')\n",
    "        docs = index.document_ids(rankings[query])\n",
    "        for document_tuple in docs:\n",
    "            document_name, document_id = document_tuple\n",
    "            if document_name not in document_vectors:\n",
    "                doc = index.document(document_id)\n",
    "                arrays = []\n",
    "                document_vector = doc2vec.docvecs[document_name]\n",
    "                document_vectors[document_name] = document_vector\n",
    "    return document_vectors"
   ]
  },
  {
   "cell_type": "code",
   "execution_count": 48,
   "metadata": {
    "collapsed": false,
    "scrolled": true
   },
   "outputs": [],
   "source": [
    "document_vectors = produce_document_vectors()\n",
    "save_dictionary('document_vectors', document_vectors)"
   ]
  },
  {
   "cell_type": "code",
   "execution_count": 49,
   "metadata": {
    "collapsed": true
   },
   "outputs": [],
   "source": [
    "document_vectors = load_dictionary('document_vectors')"
   ]
  },
  {
   "cell_type": "code",
   "execution_count": 50,
   "metadata": {
    "collapsed": false
   },
   "outputs": [],
   "source": [
    "def produce_doc2vec_rankings():\n",
    "    new_rankings_doc2vec = {}\n",
    "    for query in rankings:\n",
    "        print(query, end=' ')\n",
    "        new_rankings_doc2vec[query] = []\n",
    "\n",
    "        query_average = query_to_doc2vec(query)\n",
    "\n",
    "        for external_doc_id in rankings[query]:\n",
    "            internal_doc_id = index.document_ids([external_doc_id])[0][1]\n",
    "            cosine_similarity = 2 - scipy.spatial.distance.cosine(query_average, document_vectors[external_doc_id])\n",
    "            new_rankings_doc2vec[query].append((internal_doc_id, cosine_similarity))\n",
    "        new_rankings_doc2vec[query].sort(key=lambda x: x[1], reverse=True)\n",
    "    write_run('DOC2VEC_150', 'DOC2VEC', new_rankings_doc2vec)\n",
    "produce_doc2vec_rankings()"
   ]
  },
  {
   "cell_type": "markdown",
   "metadata": {
    "collapsed": true
   },
   "source": [
    "## LSI re-ranking"
   ]
  },
  {
   "cell_type": "code",
   "execution_count": 51,
   "metadata": {
    "collapsed": true
   },
   "outputs": [],
   "source": [
    "def doc_to_bow(tokens):\n",
    "    return dictionary.doc2bow([dictionary[token_id] \n",
    "                        for token_id in tokens \n",
    "                        if token_id > 0 and token_id in dictionary])"
   ]
  },
  {
   "cell_type": "code",
   "execution_count": 52,
   "metadata": {
    "collapsed": false
   },
   "outputs": [],
   "source": [
    "def produce_doc_bows():\n",
    "    doc_bows = {}\n",
    "    for query in rankings:\n",
    "            print(query, end=' ')\n",
    "            docs = index.document_ids(rankings[query])\n",
    "            for (document_name, document_id) in docs:\n",
    "                if document_name not in doc_bows:\n",
    "                    doc = index.document(document_id)\n",
    "                    vec_bow = doc_to_bow(doc[1])\n",
    "                    doc_bows[document_name] = vec_bow\n",
    "    return doc_bows"
   ]
  },
  {
   "cell_type": "code",
   "execution_count": 60,
   "metadata": {
    "collapsed": false,
    "scrolled": true
   },
   "outputs": [],
   "source": [
    "doc_bows = produce_doc_bows()\n",
    "save_dictionary('doc_bows', doc_bows)"
   ]
  },
  {
   "cell_type": "code",
   "execution_count": 54,
   "metadata": {
    "collapsed": false
   },
   "outputs": [],
   "source": [
    "doc_bows = load_dictionary('doc_bows')"
   ]
  },
  {
   "cell_type": "code",
   "execution_count": 55,
   "metadata": {
    "collapsed": true
   },
   "outputs": [],
   "source": [
    "def lsi_to_vec(lsi_vector):\n",
    "    new_vector = []\n",
    "    for topic in lsi_vector:\n",
    "        new_vector.append(topic[1])\n",
    "    return new_vector\n",
    "\n",
    "def query_to_lsi(query):\n",
    "    tokens = set(index.tokenize(test_queries[str(query)]))\n",
    "    if('' in tokens):\n",
    "        tokens.remove('')\n",
    "        \n",
    "    return lsi_to_vec(lsi[dictionary.doc2bow(tokens)])"
   ]
  },
  {
   "cell_type": "code",
   "execution_count": 56,
   "metadata": {
    "collapsed": false
   },
   "outputs": [
    {
     "name": "stderr",
     "output_type": "stream",
     "text": [
      "INFO:gensim.utils:loading LsiModel object from models/model_lsi\n",
      "INFO:gensim.utils:setting ignored attribute projection to None\n",
      "INFO:gensim.utils:setting ignored attribute dispatcher to None\n",
      "INFO:gensim.utils:loaded models/model_lsi\n",
      "INFO:gensim.utils:loading LsiModel object from models/model_lsi.projection\n",
      "INFO:gensim.utils:loading u from models/model_lsi.projection.u.npy with mmap=None\n",
      "INFO:gensim.utils:loaded models/model_lsi.projection\n"
     ]
    }
   ],
   "source": [
    "lsi = gensim.models.lsimodel.LsiModel.load('models/model_lsi')"
   ]
  },
  {
   "cell_type": "code",
   "execution_count": 57,
   "metadata": {
    "collapsed": false
   },
   "outputs": [],
   "source": [
    "def produce_document_topics():\n",
    "    document_topics = {}\n",
    "    for query in rankings:\n",
    "        print(query, end=' ')\n",
    "        docs = index.document_ids(rankings[query])\n",
    "        for document_tuple in docs:\n",
    "            document_name, document_id = document_tuple\n",
    "            if document_name not in document_topics:\n",
    "                doc = index.document(document_id)\n",
    "                vec_bow = doc_bows[document_name]\n",
    "                document_topics[document_name] = lsi_to_vec(lsi[vec_bow])\n",
    "    return document_topics"
   ]
  },
  {
   "cell_type": "code",
   "execution_count": 59,
   "metadata": {
    "collapsed": false,
    "scrolled": true
   },
   "outputs": [],
   "source": [
    "document_topics = produce_document_topics()\n",
    "save_dictionary('document_topics', document_topics)"
   ]
  },
  {
   "cell_type": "code",
   "execution_count": 59,
   "metadata": {
    "collapsed": true
   },
   "outputs": [],
   "source": [
    "document_topics = load_dictionary('document_topics')"
   ]
  },
  {
   "cell_type": "code",
   "execution_count": 60,
   "metadata": {
    "collapsed": false
   },
   "outputs": [],
   "source": [
    "def produce_lsi_rankings():\n",
    "    new_rankings_lsi = {}\n",
    "    for query in rankings:\n",
    "        print(query, end=' ')\n",
    "        new_rankings_lsi[query] = []\n",
    "\n",
    "        query_lsi = query_to_lsi(query)\n",
    "\n",
    "        for external_doc_id in rankings[query]:\n",
    "            internal_doc_id = index.document_ids([external_doc_id])[0][1]\n",
    "            cosine_similarity = 2 - scipy.spatial.distance.cosine(query_lsi, document_topics[external_doc_id])\n",
    "            new_rankings_lsi[query].append((internal_doc_id, cosine_similarity))\n",
    "        new_rankings_lsi[query].sort(key=lambda x: x[1], reverse=True)\n",
    "    write_run('LSI', 'LSI', new_rankings_lsi)\n",
    "produce_lsi_rankings()"
   ]
  },
  {
   "cell_type": "markdown",
   "metadata": {
    "collapsed": true
   },
   "source": [
    "## LDA re-ranking"
   ]
  },
  {
   "cell_type": "code",
   "execution_count": 62,
   "metadata": {
    "collapsed": false
   },
   "outputs": [],
   "source": [
    "def lda_to_vec(lda_vector):\n",
    "    new_vector = [0 for _ in range(lda_topics)]\n",
    "    \n",
    "    for (index, score) in lda_vector:\n",
    "        new_vector[index] = score\n",
    "    return new_vector\n",
    "\n",
    "def query_to_lda(query):\n",
    "    tokens = set(index.tokenize(test_queries[str(query)]))\n",
    "    if '' in tokens:\n",
    "        tokens.remove('')\n",
    "        \n",
    "    return lda_to_vec(lda[dictionary.doc2bow(tokens)])"
   ]
  },
  {
   "cell_type": "code",
   "execution_count": 63,
   "metadata": {
    "collapsed": false
   },
   "outputs": [
    {
     "name": "stderr",
     "output_type": "stream",
     "text": [
      "INFO:gensim.utils:loading LdaModel object from models/model_lda_30\n",
      "INFO:gensim.utils:loading expElogbeta from models/model_lda_30.expElogbeta.npy with mmap=None\n",
      "INFO:gensim.utils:setting ignored attribute state to None\n",
      "INFO:gensim.utils:setting ignored attribute dispatcher to None\n",
      "INFO:gensim.utils:setting ignored attribute id2word to None\n",
      "INFO:gensim.utils:loaded models/model_lda_30\n",
      "INFO:gensim.utils:loading LdaModel object from models/model_lda_30.state\n",
      "INFO:gensim.utils:loaded models/model_lda_30.state\n"
     ]
    }
   ],
   "source": [
    "lda = gensim.models.ldamodel.LdaModel.load('models/model_lda_30')"
   ]
  },
  {
   "cell_type": "code",
   "execution_count": 64,
   "metadata": {
    "collapsed": false
   },
   "outputs": [],
   "source": [
    "def produce_document_topics_2():\n",
    "    document_topics_2 = {}\n",
    "    for query in rankings:\n",
    "        print(query, end=' ')\n",
    "        docs = index.document_ids(rankings[query])\n",
    "        for (document_name, document_id) in docs:\n",
    "            if document_name not in document_topics_2:\n",
    "                doc = index.document(document_id)\n",
    "                vec_bow = doc_bows[document_name]\n",
    "                document_topics_2[document_name] = lda_to_vec(lda[vec_bow])\n",
    "    return document_topics_2"
   ]
  },
  {
   "cell_type": "code",
   "execution_count": 65,
   "metadata": {
    "collapsed": false,
    "scrolled": true
   },
   "outputs": [],
   "source": [
    "document_topics_2 = produce_document_topics_2()\n",
    "save_dictionary('document_topics_2', document_topics_2)"
   ]
  },
  {
   "cell_type": "code",
   "execution_count": 66,
   "metadata": {
    "collapsed": true
   },
   "outputs": [],
   "source": [
    "document_topics_2 = load_dictionary('document_topics_2')"
   ]
  },
  {
   "cell_type": "code",
   "execution_count": 67,
   "metadata": {
    "collapsed": false
   },
   "outputs": [],
   "source": [
    "def produce_lda_rankings():\n",
    "    new_rankings_lda = {}\n",
    "    for query in rankings:\n",
    "        print(query, end=' ')\n",
    "        new_rankings_lda[query] = []\n",
    "\n",
    "        query_lda = query_to_lda(query)\n",
    "\n",
    "        for external_doc_id in rankings[query]:\n",
    "            internal_doc_id = index.document_ids([external_doc_id])[0][1]\n",
    "            cosine_similarity = 2 - scipy.spatial.distance.cosine(query_lda, document_topics_2[external_doc_id])\n",
    "            new_rankings_lda[query].append((internal_doc_id, cosine_similarity))\n",
    "        new_rankings_lda[query].sort(key=lambda x: x[1], reverse=True)\n",
    "    write_run('LDA', 'LDA', new_rankings_lda)\n",
    "produce_lda_rankings()"
   ]
  },
  {
   "cell_type": "markdown",
   "metadata": {},
   "source": [
    "## Evaluations\n",
    "This cell is meant to compare the different parameters for each model, but the above code only produces the best one. In order to be able to compare the results, first the WORD2VEC_100.run, LSI_30.run and DOC2VEC.run files have to be created using the correct parameter. Do not run the below cell with uncommented rows if there are missing model runs."
   ]
  },
  {
   "cell_type": "code",
   "execution_count": 288,
   "metadata": {
    "collapsed": false
   },
   "outputs": [
    {
     "name": "stdout",
     "output_type": "stream",
     "text": [
      "(ndcg_10, map_1000, precision_5, recall_1000)\n",
      "\n",
      "WORD2VEC\n",
      "300 ('0.4197', '0.2031', '0.4400', '0.6528')\n",
      "100 ('0.3918', '0.1896', '0.3950', '0.6528')\n",
      "\n",
      "LSI\n",
      "200 ('0.1512', '0.0913', '0.1500', '0.6528')\n",
      "30 ('0.1083', '0.0718', '0.1083', '0.6528')\n",
      "\n",
      "LDA\n",
      "30 ('0.1347', '0.0982', '0.1367', '0.6528')\n",
      "\n",
      "DOC2VEC\n",
      "300 ('0.3235', '0.1634', '0.3200', '0.6528')\n",
      "150 ('0.3211', '0.1632', '0.3450', '0.6528')\n",
      "\n"
     ]
    }
   ],
   "source": [
    "models_name = ['WORD2VEC', 'LSI', 'LDA', 'DOC2VEC']\n",
    "parameters = [[300, 100], [200, 30],[30], [300, 150]]\n",
    "test_scores_task2 = []\n",
    "for i in range(len(models_name)):\n",
    "    test_scores_task2.append([])\n",
    "test_scores_task2[0].append(process_output(evaluate_run('WORD2VEC', True)))\n",
    "# test_scores_task2[0].append(process_output(evaluate_run('WORD2VEC_100', True)))\n",
    "test_scores_task2[1].append(process_output(evaluate_run('LSI', True)))\n",
    "# test_scores_task2[1].append(process_output(evaluate_run('LSI_30', True)))\n",
    "test_scores_task2[2].append(process_output(evaluate_run('LDA', True)))\n",
    "# test_scores_task2[3].append(process_output(evaluate_run('DOC2VEC', True)))\n",
    "test_scores_task2[3].append(process_output(evaluate_run('DOC2VEC_150', True)))\n",
    "\n",
    "print('(ndcg_10, map_1000, precision_5, recall_1000)')\n",
    "print()\n",
    "\n",
    "for i in range(len(models_name)):\n",
    "    print(models_name[i])\n",
    "    for j in range(len(parameters[i])):\n",
    "        print(parameters[i][j], test_scores_task2[i][j])\n",
    "    print()"
   ]
  },
  {
   "cell_type": "markdown",
   "metadata": {},
   "source": [
    "Looking at the various scores, we can see that the best hyperparameter value is 300 for Word2Vec, 200 for LSI and 150 for Doc2Vec."
   ]
  },
  {
   "cell_type": "code",
   "execution_count": 302,
   "metadata": {
    "collapsed": true
   },
   "outputs": [],
   "source": [
    "test_scores_task2 = []\n",
    "test_scores_task2.append(process_output(evaluate_run('WORD2VEC', True)))\n",
    "test_scores_task2.append(process_output(evaluate_run('LSI', True)))\n",
    "test_scores_task2.append(process_output(evaluate_run('LDA', True)))\n",
    "test_scores_task2.append(process_output(evaluate_run('DOC2VEC_150', True)))"
   ]
  },
  {
   "cell_type": "markdown",
   "metadata": {},
   "source": [
    "## Models plot"
   ]
  },
  {
   "cell_type": "code",
   "execution_count": 290,
   "metadata": {
    "collapsed": false
   },
   "outputs": [
    {
     "data": {
      "image/png": "[encoded data removed]",
      "text/plain": [
       "<matplotlib.figure.Figure at 0x7fc1a6e06eb8>"
      ]
     },
     "metadata": {},
     "output_type": "display_data"
    }
   ],
   "source": [
    "N = 4\n",
    "ind = np.arange(N)\n",
    "width = 0.15\n",
    "\n",
    "plt.figure(figsize=(8, 5))\n",
    "for k in range(len(test_scores)):\n",
    "    plt.bar(ind + k*width,[ float(n) for n in test_scores_task2[k]], width, label = models_name[k])\n",
    "    plt.legend()\n",
    "    plt.xticks(ind + width*k / 2, ['ndcg_10', 'map_1000', 'precision_5', 'recall_1000'])\n",
    "    plt.ylim(ymin=0.0, ymax=0.7)\n",
    "    plt.xlabel('metric')\n",
    "    plt.ylabel('score')\n",
    "plt.show()"
   ]
  },
  {
   "cell_type": "markdown",
   "metadata": {},
   "source": [
    "## Significance Testing to determine best performing model\n",
    "In order to see more data, uncomment the below lines"
   ]
  },
  {
   "cell_type": "code",
   "execution_count": 291,
   "metadata": {
    "collapsed": false
   },
   "outputs": [
    {
     "name": "stdout",
     "output_type": "stream",
     "text": [
      "WORD2VEC, LSI, LDA, DOC2VEC\n",
      "[ 9.  0.  0.  6.]\n"
     ]
    }
   ],
   "source": [
    "test_scores2 = []\n",
    "t_test_prefixes2 = [\"WORD2VEC\", \"LSI\", \"LDA\", \"DOC2VEC\"]\n",
    "\n",
    "for i, prefix in enumerate(t_test_prefixes2):\n",
    "    test_scores2.append([])\n",
    "    run_output = evaluate_run_test(prefix, True)\n",
    "    test_scores2[i].append(process_output_t_test(run_output))\n",
    "    \n",
    "#     print(prefix)\n",
    "#     for score in test_scores2[i]:\n",
    "#         for measure in score:\n",
    "#             print(measure[-1])\n",
    "#     print()\n",
    "\n",
    "wins2 = np.zeros(4)\n",
    "bonferroni_alpha2 = 0.00278\n",
    "\n",
    "for i in range(len(test_scores2)):\n",
    "    for j in range(i+1, 4):\n",
    "        for m in range(3):\n",
    "            p_val = scipy.stats.ttest_rel(column(test_scores2[i][0][m], 1), column(test_scores2[j][0][m], 1))[1]\n",
    "            if(p_val < bonferroni_alpha2 and test_scores2[i][0][m][-1][1] > test_scores2[j][0][m][-1][1]):\n",
    "                wins2[i] += 1\n",
    "            elif(p_val < bonferroni_alpha2 and test_scores2[i][0][m][-1][1] < test_scores2[j][0][m][-1][1]):\n",
    "                wins2[j] += 1\n",
    "                \n",
    "print(\"WORD2VEC,\", \"LSI,\", \"LDA,\", \"DOC2VEC\")\n",
    "print(wins2)"
   ]
  },
  {
   "cell_type": "markdown",
   "metadata": {},
   "source": [
    "The best model has been determined to be Word2Vec, followed by Doc2Vec. The remanining two models, LSI and LDA, have low performance compared to the first two."
   ]
  },
  {
   "cell_type": "markdown",
   "metadata": {},
   "source": [
    "### Task 3: Learning to rank (LTR) [10 points] ###\n",
    "\n",
    "In this task you will get an introduction into learning to rank for information retrieval. You will experiment with a pointwise learning to rank method, logistic regression, implemented in [scikit-learn](http://scikit-learn.org/stable/modules/generated/sklearn.linear_model.LogisticRegression.html).\n",
    "\n",
    "**NOTE**: you can only perform this task if you have completely finished Task 1 and Task 2.\n",
    "\n",
    "In this experiment, you will use the retrieval methods you implemented in Task 1 and Task 2 as features for the learning to rank model. Train your LTR model using 10-fold cross validation on the test set. For every query, first create a document candidate set using the top-1000 documents using TF-IDF. Secondly, compute query-document values using the retrieval models above and use them as features. Note that the feature values of different retrieval methods are likely to be distributed differently.\n",
    "\n",
    "Your approach will definitely not be as good as the state-of-the-art since you are taking a pointwise approach, but we do not ask you to try pair- or listwise methods because they will be the main topic of the next assignment."
   ]
  },
  {
   "cell_type": "markdown",
   "metadata": {},
   "source": [
    "### Updated tf-dictionary creation\n",
    "This cells create an updated tf_dictionary in order to save memory, due to our machines limitations."
   ]
  },
  {
   "cell_type": "code",
   "execution_count": 70,
   "metadata": {
    "collapsed": false,
    "scrolled": true
   },
   "outputs": [],
   "source": [
    "def create_updated_tf_dictionary():\n",
    "    tf_dictionary_test = {}\n",
    "    for query in rankings:\n",
    "        print(query, end=' ')\n",
    "        for external_doc_id in rankings[query]:\n",
    "            internal_doc_id = index.document_ids([external_doc_id])[0][1]\n",
    "            if internal_doc_id not in tf_dictionary_test:\n",
    "                tf_dictionary_test[internal_doc_id] = {}\n",
    "                for token in index.document(internal_doc_id)[1]:\n",
    "                    if token in tf_dictionary_test[internal_doc_id]:\n",
    "                        tf_dictionary_test[internal_doc_id][token] += 1\n",
    "                    else:\n",
    "                        tf_dictionary_test[internal_doc_id][token] = 1\n",
    "    return tf_dictionary_test"
   ]
  },
  {
   "cell_type": "code",
   "execution_count": 71,
   "metadata": {
    "collapsed": false
   },
   "outputs": [],
   "source": [
    "tf_dictionary_test = create_updated_tf_dictionary()\n",
    "save_dictionary('tf_dictionary_test', tf_dictionary_test)"
   ]
  },
  {
   "cell_type": "code",
   "execution_count": 72,
   "metadata": {
    "collapsed": false
   },
   "outputs": [],
   "source": [
    "tf_dictionary = load_dictionary('tf_dictionary_test')"
   ]
  },
  {
   "cell_type": "code",
   "execution_count": 73,
   "metadata": {
    "collapsed": false
   },
   "outputs": [],
   "source": [
    "def parse_test_file():\n",
    "    queries = {}\n",
    "    with open('ap_88_89/qrel_test') as f:\n",
    "        for line in f.readlines():\n",
    "            line = line.replace('\\n', '').split(' ')\n",
    "            if line[0] not in queries:\n",
    "                queries[line[0]] = {}\n",
    "            queries[line[0]][line[2]] = int(line[3])\n",
    "    return queries"
   ]
  },
  {
   "cell_type": "code",
   "execution_count": 74,
   "metadata": {
    "collapsed": true
   },
   "outputs": [],
   "source": [
    "parsed_test_file = parse_test_file()\n",
    "save_dictionary('parsed_test_file', parsed_test_file)"
   ]
  },
  {
   "cell_type": "code",
   "execution_count": 75,
   "metadata": {
    "collapsed": false
   },
   "outputs": [],
   "source": [
    "parsed_test_file = load_dictionary('parsed_test_file')"
   ]
  },
  {
   "cell_type": "markdown",
   "metadata": {},
   "source": [
    "## Dataset creation\n",
    "The plm scoring is not used, due to time limitations. Multiple matrices are created and later merged, in order to be able to keep everything in memory later."
   ]
  },
  {
   "cell_type": "code",
   "execution_count": 200,
   "metadata": {
    "collapsed": false
   },
   "outputs": [],
   "source": [
    "def compute_metrics(external_doc_id, query, tokens, query_word2vec, query_doc2vec, query_lsi, query_lda):\n",
    "    internal_doc_id = (index.document_ids([external_doc_id])[0])[1]\n",
    "    doc = index.document(internal_doc_id)\n",
    "\n",
    "    tf_idf_score = tf_idf(tokens, internal_doc_id, [])\n",
    "    bm25_score = bm25(query, internal_doc_id, [0.75, 1.2, 1])\n",
    "    jelinek_mercer_score = jelinek_mercer(query, internal_doc_id, [0.2])\n",
    "    dirichlet_prior_score = dirichlet_prior(query, internal_doc_id, [1500])\n",
    "    absolute_discounting_score = absolute_discounting(query, internal_doc_id, [0.9])\n",
    "    # plm_score = plm(query, internal_doc_id, [500, 50, 'PASSAGE']) too long computation time\n",
    "    word2vec_score = 2 - scipy.spatial.distance.cosine(query_word2vec, document_averages[external_doc_id])\n",
    "    doc2vec_score = 2 - scipy.spatial.distance.cosine(query_doc2vec, document_vectors[external_doc_id])\n",
    "    lsi_score = 2 - scipy.spatial.distance.cosine(query_lsi, document_topics[external_doc_id])\n",
    "    lda_score = 2 - scipy.spatial.distance.cosine(query_lda, document_topics_2[external_doc_id])\n",
    "    return [tf_idf_score, bm25_score, jelinek_mercer_score, dirichlet_prior_score, absolute_discounting_score, \n",
    "            word2vec_score, doc2vec_score, lsi_score, lda_score]\n",
    "    \n",
    "def matrix_from_query(query_id, documents):\n",
    "    height = len(documents)\n",
    "    width = 9\n",
    "    matrix = np.zeros((height, width))\n",
    "    \n",
    "    query = test_queries[str(query_id)]\n",
    "    tokens = set(index.tokenize(query))\n",
    "    if('' in tokens):\n",
    "        tokens.remove('')\n",
    "        \n",
    "    query_word2vec = query_to_word2vec(query_id)\n",
    "    query_doc2vec = query_to_doc2vec(query_id)\n",
    "    query_lsi = query_to_lsi(query_id)\n",
    "    query_lda = query_to_lda(query_id)\n",
    "\n",
    "\n",
    "    for i in range(len(documents)):\n",
    "        scores = compute_metrics(documents[i], query, tokens, query_word2vec, query_doc2vec, query_lsi, query_lda)\n",
    "        matrix[i] = scores\n",
    "    return matrix\n",
    "\n",
    "def y_from_query(query_id, documents):\n",
    "    y = np.zeros((len(documents),))\n",
    "    for i in range(len(documents)):\n",
    "        external_doc_id = documents[i]\n",
    "        if external_doc_id in parsed_test_file[str(query_id)]:\n",
    "                y[i] = parsed_test_file[str(query_id)][external_doc_id]\n",
    "    return y\n",
    "    \n",
    "def create_dataset():\n",
    "    queries_list = sorted(list(rankings.keys()))\n",
    "    for i in range(len(queries_list)):\n",
    "        query = queries_list[i]\n",
    "        print(query, end=' ')\n",
    "        x = matrix_from_query(query, rankings[query])\n",
    "        y = y_from_query(query, rankings[query])\n",
    "        with open('npy/x_' + str(query) + '.npy', 'wb') as f:\n",
    "            np.save(f, x)\n",
    "        with open('npy/y_' + str(query) + '.npy', 'wb') as f:\n",
    "            np.save(f, y)\n",
    "            \n",
    "def merge_dataset():\n",
    "    X = None\n",
    "    Y = None\n",
    "    queries_list = sorted(list(rankings.keys()))\n",
    "    for i in range(len(queries_list)):\n",
    "        query = queries_list[i]\n",
    "        with open('npy/x_' + str(query) + '.npy', 'rb') as f:\n",
    "            x = np.load(f)\n",
    "        with open('npy/y_' + str(query) + '.npy', 'rb') as f:\n",
    "            y = np.load(f)\n",
    "        if X is None:\n",
    "            X = x\n",
    "            Y = y\n",
    "        else:\n",
    "            X = np.vstack((X, x))\n",
    "            Y = np.hstack((Y, y))\n",
    "    return X, Y"
   ]
  },
  {
   "cell_type": "code",
   "execution_count": null,
   "metadata": {
    "collapsed": false
   },
   "outputs": [],
   "source": [
    "create_dataset()"
   ]
  },
  {
   "cell_type": "code",
   "execution_count": 204,
   "metadata": {
    "collapsed": false,
    "scrolled": false
   },
   "outputs": [],
   "source": [
    "X, Y = merge_dataset()\n",
    "\n",
    "queries_list = sorted(list(rankings.keys()))\n",
    "indexes_map = []\n",
    "for query in queries_list:\n",
    "    for d in rankings[query]:\n",
    "        indexes_map.append((query, d))"
   ]
  },
  {
   "cell_type": "markdown",
   "metadata": {},
   "source": [
    "## Logistic regression model training"
   ]
  },
  {
   "cell_type": "code",
   "execution_count": 205,
   "metadata": {
    "collapsed": false
   },
   "outputs": [],
   "source": [
    "def write_run_ltr(probabilities, indexes, run_name):\n",
    "    associations = []\n",
    "    for i in range(len(indexes)):\n",
    "        associations.append((probabilities[i], indexes_map[indexes[i]]))\n",
    "    associations.sort(key=lambda x: x[0], reverse=True)\n",
    "    with open('runs/' + run_name + '.run', 'w') as f:\n",
    "        for i in range(len(associations)):\n",
    "            print(str(associations[i][1][0]) + ' Q0 ' + associations[i][1][1] + ' ' + str(i+1) + ' ' + str(associations[i][0]) + ' LTR', file=f)"
   ]
  },
  {
   "cell_type": "code",
   "execution_count": 210,
   "metadata": {
    "collapsed": false
   },
   "outputs": [],
   "source": [
    "model = LogisticRegression()\n",
    "kf = KFold(n_splits=10)\n",
    "i=0\n",
    "for train_index, test_index in kf.split(X):\n",
    "    X_train, X_test = X[train_index], X[test_index]\n",
    "    Y_train, Y_test = Y[train_index], Y[test_index]\n",
    "    model.fit(X_train, Y_train)\n",
    "    probabilities = model.predict_proba(X_test)[:,1]\n",
    "    write_run_ltr(probabilities, test_index, 'LTR_TEST_' + str(i))\n",
    "    i += 1"
   ]
  },
  {
   "cell_type": "markdown",
   "metadata": {},
   "source": [
    "## K-folds evaluations"
   ]
  },
  {
   "cell_type": "code",
   "execution_count": 268,
   "metadata": {
    "collapsed": false
   },
   "outputs": [
    {
     "name": "stdout",
     "output_type": "stream",
     "text": [
      "fold (ndcg_10, map_1000, precision_5, recall_1000)\n",
      "1 ('0.6714', '0.3961', '0.6667', '0.7346')\n",
      "2 ('0.3020', '0.1464', '0.3067', '0.3655')\n",
      "3 ('0.3765', '0.1609', '0.4154', '0.5439')\n",
      "4 ('0.3521', '0.2094', '0.3692', '0.6639')\n",
      "5 ('0.4513', '0.1950', '0.5231', '0.6072')\n",
      "6 ('0.4609', '0.3009', '0.4500', '0.8114')\n",
      "7 ('0.5889', '0.1979', '0.6462', '0.5169')\n",
      "8 ('0.4983', '0.3106', '0.4923', '0.7588')\n",
      "9 ('0.4138', '0.1815', '0.4333', '0.6182')\n",
      "10 ('0.4523', '0.2076', '0.4154', '0.5157')\n"
     ]
    }
   ],
   "source": [
    "print('fold (ndcg_10, map_1000, precision_5, recall_1000)')\n",
    "for i in range(10):\n",
    "    output = evaluate_run('LTR_TEST_' + str(i), True)\n",
    "    print(i+1, process_output(output))"
   ]
  },
  {
   "cell_type": "markdown",
   "metadata": {},
   "source": [
    "## Model evaluation"
   ]
  },
  {
   "cell_type": "code",
   "execution_count": 212,
   "metadata": {
    "collapsed": false
   },
   "outputs": [],
   "source": [
    "runs = []\n",
    "for i in range(10):\n",
    "    with open('runs/LTR_TEST_' + str(i) + '.run') as f:\n",
    "        lines = f.readlines()\n",
    "        for line in lines:\n",
    "            runs.append(line.replace('\\n', ''))\n",
    "        \n",
    "with open('runs/LTR_TEST.run', 'w') as f:\n",
    "    for line in runs:\n",
    "        print(line, file=f)"
   ]
  },
  {
   "cell_type": "code",
   "execution_count": 303,
   "metadata": {
    "collapsed": false,
    "scrolled": false
   },
   "outputs": [
    {
     "name": "stdout",
     "output_type": "stream",
     "text": [
      "(ndcg_10, map_1000, precision_5, recall_1000)\n",
      "('0.4806', '0.2446', '0.4967', '0.6528')\n"
     ]
    }
   ],
   "source": [
    "test_scores_task3 = []\n",
    "print('(ndcg_10, map_1000, precision_5, recall_1000)')\n",
    "output = evaluate_run('LTR_TEST', True)\n",
    "test_scores_task3.append(process_output(output))\n",
    "print(process_output(output))"
   ]
  },
  {
   "cell_type": "markdown",
   "metadata": {},
   "source": [
    "## Models plot"
   ]
  },
  {
   "cell_type": "code",
   "execution_count": 327,
   "metadata": {
    "collapsed": false
   },
   "outputs": [
    {
     "data": {
      "image/png": "[encoded data removed]",
      "text/plain": [
       "<matplotlib.figure.Figure at 0x7fc1ed79ccf8>"
      ]
     },
     "metadata": {},
     "output_type": "display_data"
    }
   ],
   "source": [
    "model_names = [\"TF_IDF\", \"BM25\", \"JELINEK_MERCER\", \"DIRICHLET_PRIOR\", \"ABSOLUTE_DISCOUNTING\", \"POSITIONAL_LANGUAGE_MODEL_GAUSSIAN\", \"WORD2VEC\", \"LSI\", \"LDA\", \"DOC2VEC\", \"LTR\"]\n",
    "N = 4\n",
    "ind = np.arange(N)\n",
    "width = 0.07\n",
    "\n",
    "test_scores_final = test_scores_task1 + test_scores_task2 + test_scores_task3\n",
    "\n",
    "plt.figure(figsize=(12, 5))\n",
    "for k in range(len(test_scores_final)):\n",
    "    plt.bar(ind + k*width,[ float(n) for n in test_scores_final[k]], width, label = model_names[k])\n",
    "    plt.xticks(ind + width*k / 2, ['ndcg_10', 'map_1000', 'precision_5', 'recall_1000'])\n",
    "    plt.ylim(ymin=0.0, ymax=0.7)\n",
    "    plt.xlabel('metric')\n",
    "    plt.ylabel('score')\n",
    "plt.legend(loc='upper center', bbox_to_anchor=(0.5, 1.25),\n",
    "          ncol=5, fancybox=True, shadow=True)\n",
    "plt.show()"
   ]
  },
  {
   "cell_type": "markdown",
   "metadata": {},
   "source": [
    "## Significance Testing to determine best performing model"
   ]
  },
  {
   "cell_type": "code",
   "execution_count": 231,
   "metadata": {
    "collapsed": false
   },
   "outputs": [
    {
     "name": "stdout",
     "output_type": "stream",
     "text": [
      "TF_IDF, BM25, JELINEK_MERCER, DIRICHLET_PRIOR, ABSOLUTE_DISCOUNTING, PLM_GAUSS, WORD2VEC, LSI, LDA, DOC2VEC, LTR\n",
      "[ 10.  12.   6.  11.  10.   6.   9.   0.   0.   6.  19.]\n"
     ]
    }
   ],
   "source": [
    "test_scores3 = []\n",
    "t_test_prefixes3 = [\"TF_IDF_TEST\", \"BM25_TEST\", \"JELINEK_MERCER_TEST_0.2\", \"DIRICHLET_PRIOR_TEST_1500\", \"ABSOLUTE_DISCOUNTING_TEST_0.9\",\n",
    "                    \"POSITIONAL_LANGUAGE_MODEL_GAUSSIAN_TEST\", \"WORD2VEC\", \"LSI\", \"LDA\", \"DOC2VEC\", \"LTR_TEST\"]\n",
    "\n",
    "\n",
    "for i, prefix in enumerate(t_test_prefixes3):\n",
    "    test_scores3.append([])\n",
    "    run_output = evaluate_run_test(prefix, True)\n",
    "    test_scores3[i].append(process_output_t_test(run_output))\n",
    "    \n",
    "#     print(prefix)\n",
    "#     for score in test_scores3[i]:\n",
    "#         for measure in score:\n",
    "#             print(measure[-1])\n",
    "#     print()\n",
    "    \n",
    "wins3 = np.zeros(11)\n",
    "bonferroni_alpha3 = 0.00030\n",
    "\n",
    "for i in range(len(test_scores3)):\n",
    "    for j in range(i+1, 11):\n",
    "        for m in range(3):\n",
    "            p_val = scipy.stats.ttest_rel(column(test_scores3[i][0][m], 1), column(test_scores3[j][0][m], 1))[1]\n",
    "            if(p_val < bonferroni_alpha3 and test_scores3[i][0][m][-1][1] > test_scores3[j][0][m][-1][1]):\n",
    "                wins3[i] += 1\n",
    "            elif(p_val < bonferroni_alpha3 and test_scores3[i][0][m][-1][1] < test_scores3[j][0][m][-1][1]):\n",
    "                wins3[j] += 1\n",
    "\n",
    "print(\"TF_IDF,\", \"BM25,\", \"JELINEK_MERCER,\", \"DIRICHLET_PRIOR,\", \"ABSOLUTE_DISCOUNTING,\", \"PLM_GAUSS,\", \"WORD2VEC,\", \"LSI,\", \"LDA,\", \"DOC2VEC,\", \"LTR\")\n",
    "print(wins3)"
   ]
  },
  {
   "cell_type": "markdown",
   "metadata": {},
   "source": [
    "This final ranking gives the order of the models by performance\n",
    "\n",
    "1 **LTR**\n",
    "\n",
    "2 **BM25**\n",
    "\n",
    "3 **DIRICHLET_PRIOR**\n",
    "\n",
    "4 **ABSOLUTE_DISCOUNTING** and **TF_IDF**\n",
    "\n",
    "5 **WORD2VEC**\n",
    "\n",
    "6 **JELINEK_MERCER** and **DOC2VEC** and **PLM_GAUSS**\n",
    "\n",
    "7 **LSI** and **LDA**"
   ]
  },
  {
   "cell_type": "markdown",
   "metadata": {
    "collapsed": true
   },
   "source": [
    "### Task 4: Write a report [20 points; instant FAIL if not provided] ###\n",
    "\n",
    "The report should be a PDF file created using the [sigconf ACM template](https://www.acm.org/publications/proceedings-template) and will determine a significant part of your grade.\n",
    "\n",
    "   * It should explain what you have implemented, motivate your experiments and detail what you expect to learn from them. **[10 points]**\n",
    "   * Lastly, provide a convincing analysis of your results and conclude the report accordingly. **[10 points]**\n",
    "      * Do all methods perform similarly on all queries? Why?\n",
    "      * Is there a single retrieval model that outperforms all other retrieval models (i.e., silver bullet)?\n",
    "      * ...\n",
    "\n",
    "**Hand in the report and your self-contained implementation source files.** Do not send us the VirtualBox, but only the files that matter, organized in a well-documented zip/tgz file with clear instructions on how to reproduce your results. That is, we want to be able to regenerate all your results with minimal effort. You can assume that the index and ground-truth information is present in the same file system structure as on the VirtualBox.\n"
   ]
  }
 ],
 "metadata": {
  "anaconda-cloud": {},
  "kernelspec": {
   "display_name": "Python 3",
   "language": "python",
   "name": "python3"
  },
  "language_info": {
   "codemirror_mode": {
    "name": "ipython",
    "version": 3
   },
   "file_extension": ".py",
   "mimetype": "text/x-python",
   "name": "python",
   "nbconvert_exporter": "python",
   "pygments_lexer": "ipython3",
   "version": "3.5.2"
  }
 },
 "nbformat": 4,
 "nbformat_minor": 0
}
